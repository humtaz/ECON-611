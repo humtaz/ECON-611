{
 "cells": [
  {
   "cell_type": "markdown",
   "id": "0a9b934f-dc5c-4d23-9c37-24ee5e7494cb",
   "metadata": {},
   "source": [
    "# Project 1: Class 1 & 2"
   ]
  },
  {
   "cell_type": "markdown",
   "id": "015e85b0-bb2e-4950-b23b-a2708e6b8792",
   "metadata": {},
   "source": [
    "# Codes- for numbers\n",
    "# markdown - for text, html, etc..\n",
    "\n",
    "# space \"text\" makes text file (under markdown)\n",
    "## font size decreases\n",
    "### small text"
   ]
  },
  {
   "cell_type": "markdown",
   "id": "19acac34-e2e2-48a8-a92c-a5b43534695a",
   "metadata": {},
   "source": [
    "# Bold and Italic fonts\n",
    "\n",
    "*italics*\n",
    "_italics_\n",
    "**bold**\n",
    "_bold_\n",
    "**_bold italics_**"
   ]
  },
  {
   "cell_type": "markdown",
   "id": "ab2e6817-557c-481b-96f6-c82d946a0bed",
   "metadata": {},
   "source": [
    "# Cell options\n",
    "create new cells= alt+Enter\n",
    "run cells = ctrl+Enter\n",
    "run cell and move to next cell = shift+Enter"
   ]
  },
  {
   "cell_type": "markdown",
   "id": "08b65ee9-9d08-474a-a95a-391413aa1fd6",
   "metadata": {},
   "source": [
    "### pep8 style guide- python guide"
   ]
  },
  {
   "cell_type": "code",
   "execution_count": 16,
   "id": "3c9a94ab-469d-4134-ac36-5e541b11b7d0",
   "metadata": {},
   "outputs": [
    {
     "name": "stdout",
     "output_type": "stream",
     "text": [
      "[]\n"
     ]
    }
   ],
   "source": [
    "x = []\n",
    "x\n",
    "print (x)"
   ]
  },
  {
   "cell_type": "code",
   "execution_count": 18,
   "id": "793a5950-cda5-4656-a8ce-fd4b8eda0b2f",
   "metadata": {},
   "outputs": [
    {
     "name": "stdout",
     "output_type": "stream",
     "text": [
      "Hello world!\n"
     ]
    }
   ],
   "source": [
    "print (\"Hello world!\")"
   ]
  },
  {
   "cell_type": "code",
   "execution_count": 21,
   "id": "27416b80-1da2-45d1-a382-daf688250b36",
   "metadata": {},
   "outputs": [
    {
     "data": {
      "text/plain": [
       "'Hello kitty'"
      ]
     },
     "execution_count": 21,
     "metadata": {},
     "output_type": "execute_result"
    }
   ],
   "source": [
    "'Hello kitty'"
   ]
  },
  {
   "cell_type": "code",
   "execution_count": 27,
   "id": "53157fad-71b8-4ac1-aa8a-c289e16d2087",
   "metadata": {},
   "outputs": [
    {
     "data": {
      "text/plain": [
       "'Hello Kitty'"
      ]
     },
     "execution_count": 27,
     "metadata": {},
     "output_type": "execute_result"
    }
   ],
   "source": [
    "msg = \"Hello Kitty\"\n",
    "msg"
   ]
  },
  {
   "cell_type": "markdown",
   "id": "12eae220-5821-413b-9b28-9e37f3d1116a",
   "metadata": {},
   "source": [
    "# object identification\n",
    "type (object)"
   ]
  },
  {
   "cell_type": "markdown",
   "id": "79300a73-af0f-4354-ba1d-2e5b6acf8ba0",
   "metadata": {},
   "source": [
    "# all caps\n",
    "msg.upper() = upper case\n",
    "msg.lower() = lower case\n",
    "msg.lower().title() = cap each word"
   ]
  },
  {
   "cell_type": "code",
   "execution_count": 29,
   "id": "015f876d-1e07-4494-a341-5dd4f794d884",
   "metadata": {},
   "outputs": [
    {
     "data": {
      "text/plain": [
       "'hello kitty'"
      ]
     },
     "execution_count": 29,
     "metadata": {},
     "output_type": "execute_result"
    }
   ],
   "source": [
    "msg.lower()"
   ]
  },
  {
   "cell_type": "code",
   "execution_count": 31,
   "id": "280ebcd2-6ae7-4b84-9691-5abd6588dae1",
   "metadata": {},
   "outputs": [
    {
     "data": {
      "text/plain": [
       "'HELLO KITTY'"
      ]
     },
     "execution_count": 31,
     "metadata": {},
     "output_type": "execute_result"
    }
   ],
   "source": [
    "msg.upper()"
   ]
  },
  {
   "cell_type": "code",
   "execution_count": 33,
   "id": "2408822a-cece-4600-8b45-c633da566239",
   "metadata": {},
   "outputs": [
    {
     "data": {
      "text/plain": [
       "'Hello Kitty'"
      ]
     },
     "execution_count": 33,
     "metadata": {},
     "output_type": "execute_result"
    }
   ],
   "source": [
    "msg.lower().title()"
   ]
  },
  {
   "cell_type": "code",
   "execution_count": null,
   "id": "039e715d-3cd3-48e1-bea1-2f5c54fe8491",
   "metadata": {},
   "outputs": [],
   "source": [
    "#concatenate objects\n",
    "using + btwn strings concatenate strings\n",
    "using + between values sums them"
   ]
  },
  {
   "cell_type": "code",
   "execution_count": 67,
   "id": "d54ad5ac-538a-4f0a-aa03-e620b97d8e4d",
   "metadata": {},
   "outputs": [
    {
     "name": "stdout",
     "output_type": "stream",
     "text": [
      "Data\n",
      "Label\n"
     ]
    }
   ],
   "source": [
    "# to replace something, we need 2 arguments= \"what 2 be replaced\", \"with what\"\n",
    "print(\"data_label\".title().replace(\"_\",\"\\n\"))"
   ]
  },
  {
   "cell_type": "code",
   "execution_count": 50,
   "id": "0c4b01f0-3cfa-4423-a145-b60100164bfe",
   "metadata": {},
   "outputs": [
    {
     "name": "stdout",
     "output_type": "stream",
     "text": [
      "My name is Humeera,I have a beautiful daughter,Her name is Anam,We live together happily.\n"
     ]
    }
   ],
   "source": [
    "line1 = \"My name is Humeera,\"\n",
    "line2 = \"I have a beautiful daughter,\"\n",
    "line3 = \"Her name is Anam,\"\n",
    "line4 = \"We live together happily.\"\n",
    "# concatenate the above strings while passing to print()\n",
    "print(line1 + line2 + line3 + line4)"
   ]
  },
  {
   "cell_type": "code",
   "execution_count": 65,
   "id": "209cab0f-18f5-4ad4-ba49-2ee8a2365380",
   "metadata": {},
   "outputs": [
    {
     "name": "stdout",
     "output_type": "stream",
     "text": [
      "My name is Humeera, I have a beautiful daughter, Her name is Anam, We live together happily.\n"
     ]
    }
   ],
   "source": [
    "#Line with space in between\n",
    "print(line1 + \" \" + line2 + \" \" + line3 + \" \" + line4)"
   ]
  },
  {
   "cell_type": "code",
   "execution_count": 63,
   "id": "9094040e-d10d-4bac-905d-4b2cc8f93ea6",
   "metadata": {},
   "outputs": [
    {
     "name": "stdout",
     "output_type": "stream",
     "text": [
      "My name is Humeera,\n",
      "I have a beautiful daughter,\n",
      "Her name is Anam,\n",
      "We live together happily.\n"
     ]
    }
   ],
   "source": [
    "# New line\n",
    "print(line1 + \"\\n\" + line2 + \"\\n\" + line3 + \"\\n\" + line4)"
   ]
  },
  {
   "cell_type": "code",
   "execution_count": 61,
   "id": "2eb33522-5a35-4755-82f4-e5f04d24bb6b",
   "metadata": {},
   "outputs": [
    {
     "name": "stdout",
     "output_type": "stream",
     "text": [
      "My name is Humeera,\n",
      "I have a beautiful daughter,\n",
      "Her name is Anam,\n",
      "We live together happily.\n"
     ]
    }
   ],
   "source": [
    "# same function using sep=\\n\n",
    "print(line1, line2, line3, line4, sep = \"\\n\")"
   ]
  },
  {
   "cell_type": "code",
   "execution_count": 75,
   "id": "9e5762d1-30b3-4df2-a026-677932dc53bb",
   "metadata": {},
   "outputs": [
    {
     "name": "stdout",
     "output_type": "stream",
     "text": [
      "My name is Humeera,::I have a beautiful daughter,::Her name is Anam,::We live together happily.\n"
     ]
    }
   ],
   "source": [
    "print(line1, line2, line3, line4, sep = \"::\")"
   ]
  },
  {
   "cell_type": "code",
   "execution_count": 79,
   "id": "375140da-a2ea-4ba8-9ca1-63e0a10c9e2c",
   "metadata": {},
   "outputs": [
    {
     "name": "stdout",
     "output_type": "stream",
     "text": [
      "[0, 1, 2, 3, 4, 5, 6, 7, 8, 9, 10, 11, 12, 13, 14, 15, 16, 17, 18, 19, 20, 21, 22, 23, 24, 25, 26, 27, 28, 29, 30, 31, 32, 33, 34, 35, 36, 37, 38, 39, 40, 41, 42, 43, 44, 45, 46, 47, 48, 49, 50, 51, 52, 53, 54, 55, 56, 57, 58, 59, 60, 61, 62, 63, 64, 65, 66, 67, 68, 69, 70, 71, 72, 73, 74, 75, 76, 77, 78, 79, 80, 81, 82, 83, 84, 85, 86, 87, 88, 89, 90, 91, 92, 93, 94, 95, 96, 97, 98, 99]\n"
     ]
    }
   ],
   "source": [
    "print([i for i in range(100 )])"
   ]
  },
  {
   "cell_type": "code",
   "execution_count": 91,
   "id": "36859a2f-64f5-48a9-afaa-34227fc855ef",
   "metadata": {},
   "outputs": [
    {
     "name": "stdout",
     "output_type": "stream",
     "text": [
      "happy 0th birthday to me\n",
      "happy 1th birthday to me\n",
      "happy 2th birthday to me\n",
      "happy 3th birthday to me\n",
      "happy 4th birthday to me\n",
      "happy 5th birthday to me\n",
      "happy 6th birthday to me\n",
      "happy 7th birthday to me\n",
      "happy 8th birthday to me\n",
      "happy 9th birthday to me\n"
     ]
    }
   ],
   "source": [
    "for i in range(10):\n",
    "    print(f\"happy {i}th birthday to me\")"
   ]
  },
  {
   "cell_type": "code",
   "execution_count": 73,
   "id": "52d2a083-0cbf-4044-b98b-14e113873b19",
   "metadata": {},
   "outputs": [
    {
     "name": "stdout",
     "output_type": "stream",
     "text": [
      "The Zen of Python, by Tim Peters\n",
      "\n",
      "Beautiful is better than ugly.\n",
      "Explicit is better than implicit.\n",
      "Simple is better than complex.\n",
      "Complex is better than complicated.\n",
      "Flat is better than nested.\n",
      "Sparse is better than dense.\n",
      "Readability counts.\n",
      "Special cases aren't special enough to break the rules.\n",
      "Although practicality beats purity.\n",
      "Errors should never pass silently.\n",
      "Unless explicitly silenced.\n",
      "In the face of ambiguity, refuse the temptation to guess.\n",
      "There should be one-- and preferably only one --obvious way to do it.\n",
      "Although that way may not be obvious at first unless you're Dutch.\n",
      "Now is better than never.\n",
      "Although never is often better than *right* now.\n",
      "If the implementation is hard to explain, it's a bad idea.\n",
      "If the implementation is easy to explain, it may be a good idea.\n",
      "Namespaces are one honking great idea -- let's do more of those!\n"
     ]
    }
   ],
   "source": [
    "import this"
   ]
  },
  {
   "cell_type": "markdown",
   "id": "41aa6b0c-9fca-4cb0-a355-f413985bed9b",
   "metadata": {},
   "source": [
    "# ---- CLASS 2------\n",
    "\n",
    "## Double quotes, single quotes and escape(\\\\)\n",
    "escape sequences with quotation marks can be used to print the quotation mark within the string.\n",
    "Using a backslash followed by Enter will allow single line string to be written across multiple lines"
   ]
  },
  {
   "cell_type": "code",
   "execution_count": 94,
   "id": "9b75fd9b-e357-4185-8f5c-5c058de3e09e",
   "metadata": {},
   "outputs": [
    {
     "data": {
      "text/plain": [
       "\"we live in 'Fargo' which ia a beautiful place\""
      ]
     },
     "execution_count": 94,
     "metadata": {},
     "output_type": "execute_result"
    }
   ],
   "source": [
    "single_quotes='we live in \\'Fargo\\' which ia a beautiful place'\n",
    "single_quotes"
   ]
  },
  {
   "cell_type": "code",
   "execution_count": 97,
   "id": "17ef9bd7-a935-4fe6-85ff-7187a540714a",
   "metadata": {},
   "outputs": [
    {
     "name": "stdout",
     "output_type": "stream",
     "text": [
      "we live in 'Fargo' which ia a beautiful place\n",
      "Or we may use \"double quotes\" in double quotes.\n",
      "We may use two backslashes to print a single backslash: \\\n",
      "Every\n",
      "word\n",
      "is\n",
      "a\n",
      "new\n",
      "line\n",
      "We may start a new line \n",
      "\tand use tab for a hanging indent\n"
     ]
    }
   ],
   "source": [
    "double_quotes = \"Or we may use \\\"double quotes\\\" in double quotes.\"\n",
    "read_backslash = \"We may use two backslashes to print a single backslash: \\\\\"\n",
    "lines = \"Every\\nword\\nis\\na\\nnew\\nline\"\n",
    "new_line_and_tab = \"We may start a new line \\n\\tand use tab for a hanging indent\"\n",
    "\n",
    "print(single_quotes)\n",
    "print(double_quotes)\n",
    "print(read_backslash)\n",
    "print(lines)\n",
    "print(new_line_and_tab)"
   ]
  },
  {
   "cell_type": "code",
   "execution_count": 107,
   "id": "5b5f59f7-4dec-4789-876a-e8fc9910cae8",
   "metadata": {},
   "outputs": [
    {
     "data": {
      "text/plain": [
       "'   look at the weather.. it s beautiful   '"
      ]
     },
     "execution_count": 107,
     "metadata": {},
     "output_type": "execute_result"
    }
   ],
   "source": [
    "spaces =\"   look at the weather.. it s beautiful   \" \n",
    "spaces\n",
    "spaces.lstrip()\n",
    "spaces.replace(\"   \", \"   \")"
   ]
  },
  {
   "cell_type": "markdown",
   "id": "4ef6a70f-d0d7-4de7-82b0-b5568cdfa440",
   "metadata": {},
   "source": [
    "## Values"
   ]
  },
  {
   "cell_type": "code",
   "execution_count": 113,
   "id": "1a8035de-c15c-4fc2-b0f8-2570cc9fea26",
   "metadata": {},
   "outputs": [
    {
     "data": {
      "text/plain": [
       "(5, 4.5, '5')"
      ]
     },
     "execution_count": 113,
     "metadata": {},
     "output_type": "execute_result"
    }
   ],
   "source": [
    "xint =5;\n",
    "xfloat=4.5\n",
    "xstr=\"5\"\n",
    "xint, xfloat, xstr"
   ]
  },
  {
   "cell_type": "code",
   "execution_count": 115,
   "id": "fe412d7c-ffbe-49dc-8e71-aa598b539e27",
   "metadata": {},
   "outputs": [
    {
     "data": {
      "text/plain": [
       "(5, int)"
      ]
     },
     "execution_count": 115,
     "metadata": {},
     "output_type": "execute_result"
    }
   ],
   "source": [
    "xint, type(xint)"
   ]
  },
  {
   "cell_type": "code",
   "execution_count": 117,
   "id": "26225a0a-dc05-4722-9fd6-abaad63315aa",
   "metadata": {},
   "outputs": [
    {
     "data": {
      "text/plain": [
       "('5', str)"
      ]
     },
     "execution_count": 117,
     "metadata": {},
     "output_type": "execute_result"
    }
   ],
   "source": [
    "xstr, type(xstr)"
   ]
  },
  {
   "cell_type": "code",
   "execution_count": 119,
   "id": "01e6a364-0c79-4ff6-b573-021fbfd5995b",
   "metadata": {},
   "outputs": [
    {
     "data": {
      "text/plain": [
       "(4.5, float)"
      ]
     },
     "execution_count": 119,
     "metadata": {},
     "output_type": "execute_result"
    }
   ],
   "source": [
    "xfloat, type(xfloat)"
   ]
  },
  {
   "cell_type": "code",
   "execution_count": 129,
   "id": "7a0d9eeb-ee91-433c-88c8-66eb76cf3fff",
   "metadata": {},
   "outputs": [
    {
     "data": {
      "text/plain": [
       "(9.5, float)"
      ]
     },
     "execution_count": 129,
     "metadata": {},
     "output_type": "execute_result"
    }
   ],
   "source": [
    "# sum of int + float = float\n",
    "xint + xfloat, type(xint + xfloat)"
   ]
  },
  {
   "cell_type": "code",
   "execution_count": 133,
   "id": "ac00408a-f85a-48c9-b3f3-155b11540ae1",
   "metadata": {},
   "outputs": [
    {
     "data": {
      "text/plain": [
       "'54.5'"
      ]
     },
     "execution_count": 133,
     "metadata": {},
     "output_type": "execute_result"
    }
   ],
   "source": [
    "xstr + str(xfloat)"
   ]
  },
  {
   "cell_type": "code",
   "execution_count": 135,
   "id": "05268267-9dc4-40f1-81c0-fa19a9d46420",
   "metadata": {},
   "outputs": [
    {
     "data": {
      "text/plain": [
       "'55'"
      ]
     },
     "execution_count": 135,
     "metadata": {},
     "output_type": "execute_result"
    }
   ],
   "source": [
    "xstr + str(xint)"
   ]
  },
  {
   "cell_type": "code",
   "execution_count": 137,
   "id": "2b5830c4-8713-4f1f-959d-035a7ab09748",
   "metadata": {},
   "outputs": [
    {
     "data": {
      "text/plain": [
       "10.0"
      ]
     },
     "execution_count": 137,
     "metadata": {},
     "output_type": "execute_result"
    }
   ],
   "source": [
    "float(xstr) + xint"
   ]
  },
  {
   "cell_type": "code",
   "execution_count": 147,
   "id": "cb1c573d-0166-42c6-b48f-46bbf4f48a5a",
   "metadata": {},
   "outputs": [
    {
     "data": {
      "text/plain": [
       "64"
      ]
     },
     "execution_count": 147,
     "metadata": {},
     "output_type": "execute_result"
    }
   ],
   "source": [
    "# power\n",
    "\n",
    "2**6"
   ]
  },
  {
   "cell_type": "code",
   "execution_count": 163,
   "id": "1e540e9f-18af-443e-b887-8eed43ec1bed",
   "metadata": {},
   "outputs": [
    {
     "data": {
      "text/plain": [
       "8.98846567431158e+307"
      ]
     },
     "execution_count": 163,
     "metadata": {},
     "output_type": "execute_result"
    }
   ],
   "source": [
    "2.0**1023"
   ]
  },
  {
   "cell_type": "code",
   "execution_count": null,
   "id": "02f4a66a-4e0c-4805-8fc3-c9232a3393c6",
   "metadata": {},
   "outputs": [],
   "source": [
    "# over flow error: Floats can not be 2**1024 or larger"
   ]
  },
  {
   "cell_type": "markdown",
   "id": "baca6b49-2e06-431f-90a0-3f749150d9e0",
   "metadata": {},
   "source": [
    "# LISTS"
   ]
  },
  {
   "cell_type": "code",
   "execution_count": 168,
   "id": "9456b5ea-364d-4985-8ac9-815733fbf6ba",
   "metadata": {},
   "outputs": [],
   "source": [
    "empty_list =[]\n",
    "int_list =[1,2,3,4,5]\n",
    "float_list=[1.1,2.2,3.3,4.5]\n",
    "string_list =[\"grade1\", \"grade2\", \"grade3\"]\n",
    "mixed_list= [1, 5.5, \"happy\", \"9\"]"
   ]
  },
  {
   "cell_type": "code",
   "execution_count": 170,
   "id": "397a473d-55c7-4c23-8632-a33142a34607",
   "metadata": {},
   "outputs": [
    {
     "name": "stdout",
     "output_type": "stream",
     "text": [
      "<class 'list'>\n",
      "<class 'list'>\n",
      "<class 'list'>\n",
      "<class 'list'>\n",
      "<class 'list'>\n"
     ]
    }
   ],
   "source": [
    "print(type(empty_list))\n",
    "print(type(int_list))   \n",
    "print(type(float_list))\n",
    "print(type(string_list))\n",
    "print(type(mixed_list))"
   ]
  },
  {
   "cell_type": "code",
   "execution_count": 172,
   "id": "efbe4a99-3cf3-4812-8e32-be0af78aa53d",
   "metadata": {},
   "outputs": [
    {
     "name": "stdout",
     "output_type": "stream",
     "text": [
      "[1, 5.5, 'happy', '9']\n"
     ]
    }
   ],
   "source": [
    "print(mixed_list)"
   ]
  },
  {
   "cell_type": "code",
   "execution_count": 178,
   "id": "952df12d-5d83-4808-9966-6e904d7ce740",
   "metadata": {},
   "outputs": [
    {
     "name": "stdout",
     "output_type": "stream",
     "text": [
      "<class 'int'> 1\n",
      "<class 'float'> 5.5\n",
      "<class 'str'> happy\n",
      "<class 'str'> 9\n"
     ]
    }
   ],
   "source": [
    "for value in  mixed_list:\n",
    "    print(type(value), value)"
   ]
  },
  {
   "cell_type": "code",
   "execution_count": null,
   "id": "23cd9f16-d21a-4fc4-9340-b0bf037cbd6f",
   "metadata": {},
   "outputs": [],
   "source": []
  }
 ],
 "metadata": {
  "kernelspec": {
   "display_name": "anaconda-panel-2023.05-py310",
   "language": "python",
   "name": "conda-env-anaconda-panel-2023.05-py310-py"
  },
  "language_info": {
   "codemirror_mode": {
    "name": "ipython",
    "version": 3
   },
   "file_extension": ".py",
   "mimetype": "text/x-python",
   "name": "python",
   "nbconvert_exporter": "python",
   "pygments_lexer": "ipython3",
   "version": "3.11.5"
  }
 },
 "nbformat": 4,
 "nbformat_minor": 5
}
