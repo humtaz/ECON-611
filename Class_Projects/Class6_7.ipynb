{
 "cells": [
  {
   "cell_type": "markdown",
   "id": "0ae8df05-3adb-42a1-97a5-e80ac896d6a5",
   "metadata": {},
   "source": [
    "# -------CLASS 6 -------------"
   ]
  },
  {
   "cell_type": "code",
   "execution_count": 2,
   "id": "a6a3b4e0-9692-47e2-a40f-d671e8fd1ace",
   "metadata": {},
   "outputs": [],
   "source": [
    "import numpy as np\n",
    "import pandas as pd\n",
    "import matplotlib.pyplot as plt"
   ]
  },
  {
   "cell_type": "code",
   "execution_count": 3,
   "id": "b98f6704-7648-4484-a50e-07d496ddbe66",
   "metadata": {},
   "outputs": [],
   "source": [
    "income_data = pd.read_excel(\"https://www2.census.gov/programs-surveys/cps/tables/hinc-06/2019/hinc06.xls\", header=[7])"
   ]
  },
  {
   "cell_type": "code",
   "execution_count": 4,
   "id": "8099d0a4-e555-4459-861e-e2bd0d7346aa",
   "metadata": {},
   "outputs": [
    {
     "data": {
      "text/html": [
       "<div>\n",
       "<style scoped>\n",
       "    .dataframe tbody tr th:only-of-type {\n",
       "        vertical-align: middle;\n",
       "    }\n",
       "\n",
       "    .dataframe tbody tr th {\n",
       "        vertical-align: top;\n",
       "    }\n",
       "\n",
       "    .dataframe thead th {\n",
       "        text-align: right;\n",
       "    }\n",
       "</style>\n",
       "<table border=\"1\" class=\"dataframe\">\n",
       "  <thead>\n",
       "    <tr style=\"text-align: right;\">\n",
       "      <th></th>\n",
       "      <th>Unnamed: 0</th>\n",
       "      <th>Number</th>\n",
       "      <th>Mean Income</th>\n",
       "      <th>Unnamed: 3</th>\n",
       "      <th>Number.1</th>\n",
       "      <th>Mean Income.1</th>\n",
       "      <th>Unnamed: 6</th>\n",
       "      <th>Number.2</th>\n",
       "      <th>Mean Income.2</th>\n",
       "      <th>Unnamed: 9</th>\n",
       "      <th>...</th>\n",
       "      <th>Unnamed: 18</th>\n",
       "      <th>Number.6</th>\n",
       "      <th>Mean Income.6</th>\n",
       "      <th>Unnamed: 21</th>\n",
       "      <th>Number.7</th>\n",
       "      <th>Mean Income.7</th>\n",
       "      <th>Unnamed: 24</th>\n",
       "      <th>Number.8</th>\n",
       "      <th>Mean Income.8</th>\n",
       "      <th>Unnamed: 27</th>\n",
       "    </tr>\n",
       "  </thead>\n",
       "  <tbody>\n",
       "    <tr>\n",
       "      <th>0</th>\n",
       "      <td>Income of Household</td>\n",
       "      <td>NaN</td>\n",
       "      <td>Dollars</td>\n",
       "      <td>Standard Error</td>\n",
       "      <td>NaN</td>\n",
       "      <td>Dollars</td>\n",
       "      <td>Standard Error</td>\n",
       "      <td>NaN</td>\n",
       "      <td>Dollars</td>\n",
       "      <td>Standard Error</td>\n",
       "      <td>...</td>\n",
       "      <td>Standard Error</td>\n",
       "      <td>NaN</td>\n",
       "      <td>Dollars</td>\n",
       "      <td>Standard Error</td>\n",
       "      <td>NaN</td>\n",
       "      <td>Dollars</td>\n",
       "      <td>Standard Error</td>\n",
       "      <td>NaN</td>\n",
       "      <td>Dollars</td>\n",
       "      <td>Standard Error</td>\n",
       "    </tr>\n",
       "    <tr>\n",
       "      <th>1</th>\n",
       "      <td>....Total</td>\n",
       "      <td>128579.0</td>\n",
       "      <td>90021</td>\n",
       "      <td>546</td>\n",
       "      <td>102505.0</td>\n",
       "      <td>93687</td>\n",
       "      <td>623</td>\n",
       "      <td>100528.0</td>\n",
       "      <td>93948</td>\n",
       "      <td>628</td>\n",
       "      <td>...</td>\n",
       "      <td>818</td>\n",
       "      <td>7416.0</td>\n",
       "      <td>118912</td>\n",
       "      <td>2145</td>\n",
       "      <td>6981.0</td>\n",
       "      <td>119816</td>\n",
       "      <td>2261</td>\n",
       "      <td>17758.0</td>\n",
       "      <td>70945</td>\n",
       "      <td>984</td>\n",
       "    </tr>\n",
       "    <tr>\n",
       "      <th>2</th>\n",
       "      <td>Under $5,000</td>\n",
       "      <td>4283.0</td>\n",
       "      <td>1073</td>\n",
       "      <td>45</td>\n",
       "      <td>2729.0</td>\n",
       "      <td>1107</td>\n",
       "      <td>60</td>\n",
       "      <td>2663.0</td>\n",
       "      <td>1099</td>\n",
       "      <td>61</td>\n",
       "      <td>...</td>\n",
       "      <td>76</td>\n",
       "      <td>299.0</td>\n",
       "      <td>876</td>\n",
       "      <td>131</td>\n",
       "      <td>281.0</td>\n",
       "      <td>861</td>\n",
       "      <td>139</td>\n",
       "      <td>604.0</td>\n",
       "      <td>1158</td>\n",
       "      <td>104</td>\n",
       "    </tr>\n",
       "    <tr>\n",
       "      <th>3</th>\n",
       "      <td>$5,000 to  $9,999</td>\n",
       "      <td>3337.0</td>\n",
       "      <td>8017</td>\n",
       "      <td>39</td>\n",
       "      <td>2286.0</td>\n",
       "      <td>7955</td>\n",
       "      <td>52</td>\n",
       "      <td>2236.0</td>\n",
       "      <td>7933</td>\n",
       "      <td>52</td>\n",
       "      <td>...</td>\n",
       "      <td>67</td>\n",
       "      <td>110.0</td>\n",
       "      <td>7728</td>\n",
       "      <td>185</td>\n",
       "      <td>107.0</td>\n",
       "      <td>7691</td>\n",
       "      <td>186</td>\n",
       "      <td>567.0</td>\n",
       "      <td>7950</td>\n",
       "      <td>77</td>\n",
       "    </tr>\n",
       "    <tr>\n",
       "      <th>4</th>\n",
       "      <td>$10,000 to $14,999</td>\n",
       "      <td>5510.0</td>\n",
       "      <td>12357</td>\n",
       "      <td>29</td>\n",
       "      <td>3927.0</td>\n",
       "      <td>12428</td>\n",
       "      <td>35</td>\n",
       "      <td>3821.0</td>\n",
       "      <td>12427</td>\n",
       "      <td>36</td>\n",
       "      <td>...</td>\n",
       "      <td>60</td>\n",
       "      <td>204.0</td>\n",
       "      <td>12225</td>\n",
       "      <td>153</td>\n",
       "      <td>197.0</td>\n",
       "      <td>12185</td>\n",
       "      <td>153</td>\n",
       "      <td>846.0</td>\n",
       "      <td>12206</td>\n",
       "      <td>71</td>\n",
       "    </tr>\n",
       "  </tbody>\n",
       "</table>\n",
       "<p>5 rows × 28 columns</p>\n",
       "</div>"
      ],
      "text/plain": [
       "            Unnamed: 0    Number Mean Income      Unnamed: 3  Number.1  \\\n",
       "0  Income of Household       NaN     Dollars  Standard Error       NaN   \n",
       "1            ....Total  128579.0       90021             546  102505.0   \n",
       "2         Under $5,000    4283.0        1073              45    2729.0   \n",
       "3    $5,000 to  $9,999    3337.0        8017              39    2286.0   \n",
       "4   $10,000 to $14,999    5510.0       12357              29    3927.0   \n",
       "\n",
       "  Mean Income.1      Unnamed: 6  Number.2 Mean Income.2      Unnamed: 9  ...  \\\n",
       "0       Dollars  Standard Error       NaN       Dollars  Standard Error  ...   \n",
       "1         93687             623  100528.0         93948             628  ...   \n",
       "2          1107              60    2663.0          1099              61  ...   \n",
       "3          7955              52    2236.0          7933              52  ...   \n",
       "4         12428              35    3821.0         12427              36  ...   \n",
       "\n",
       "      Unnamed: 18 Number.6 Mean Income.6     Unnamed: 21 Number.7  \\\n",
       "0  Standard Error      NaN       Dollars  Standard Error      NaN   \n",
       "1             818   7416.0        118912            2145   6981.0   \n",
       "2              76    299.0           876             131    281.0   \n",
       "3              67    110.0          7728             185    107.0   \n",
       "4              60    204.0         12225             153    197.0   \n",
       "\n",
       "  Mean Income.7     Unnamed: 24 Number.8 Mean Income.8     Unnamed: 27  \n",
       "0       Dollars  Standard Error      NaN       Dollars  Standard Error  \n",
       "1        119816            2261  17758.0         70945             984  \n",
       "2           861             139    604.0          1158             104  \n",
       "3          7691             186    567.0          7950              77  \n",
       "4         12185             153    846.0         12206              71  \n",
       "\n",
       "[5 rows x 28 columns]"
      ]
     },
     "execution_count": 4,
     "metadata": {},
     "output_type": "execute_result"
    }
   ],
   "source": [
    "income_data = income_data.rename(\n",
    "    columns ={\"unnames:0\": \"Household Income\"})\n",
    "income_data.head()"
   ]
  },
  {
   "cell_type": "code",
   "execution_count": 5,
   "id": "b8a71573-c426-41d2-8067-c0430a017b06",
   "metadata": {},
   "outputs": [
    {
     "data": {
      "text/plain": [
       "1    0.000\n",
       "2    4.283\n",
       "3    3.337\n",
       "4    5.510\n",
       "5    5.772\n",
       "Name: Number, dtype: float64"
      ]
     },
     "execution_count": 5,
     "metadata": {},
     "output_type": "execute_result"
    }
   ],
   "source": [
    "households = income_data[\"Number\"][1:-1].div(1000)\n",
    "households.iloc[0] = 0\n",
    "households.head()"
   ]
  },
  {
   "cell_type": "code",
   "execution_count": 6,
   "id": "6c09e604-7c9f-4695-8dfd-9499027bed77",
   "metadata": {},
   "outputs": [
    {
     "name": "stdout",
     "output_type": "stream",
     "text": [
      "['0k', '5k', '10k', '15k', '20k', '25k', '30k', '35k', '40k', '45k', '50k', '55k', '60k', '65k', '70k', '75k', '80k', '85k', '90k', '95k', '100k', '105k', '110k', '115k', '120k', '125k', '130k', '135k', '140k', '145k', '150k', '155k', '160k', '165k', '170k', '175k', '180k', '185k', '190k', '195k', '200k', '250k', '250k+']\n"
     ]
    }
   ],
   "source": [
    "income_levels = list(range(0,201,5))\n",
    "income_levels.append(250)\n",
    "income_levels = [str(value) + \"k\" for value in income_levels]\n",
    "income_levels.append(\"250k+\")\n",
    "print(income_levels)"
   ]
  },
  {
   "cell_type": "code",
   "execution_count": 7,
   "id": "fbe2db10-093e-48dd-8495-a8b6aa33d8b2",
   "metadata": {},
   "outputs": [
    {
     "data": {
      "text/html": [
       "<div>\n",
       "<style scoped>\n",
       "    .dataframe tbody tr th:only-of-type {\n",
       "        vertical-align: middle;\n",
       "    }\n",
       "\n",
       "    .dataframe tbody tr th {\n",
       "        vertical-align: top;\n",
       "    }\n",
       "\n",
       "    .dataframe thead th {\n",
       "        text-align: right;\n",
       "    }\n",
       "</style>\n",
       "<table border=\"1\" class=\"dataframe\">\n",
       "  <thead>\n",
       "    <tr style=\"text-align: right;\">\n",
       "      <th></th>\n",
       "      <th>Households in Bracket</th>\n",
       "    </tr>\n",
       "    <tr>\n",
       "      <th>Income Level</th>\n",
       "      <th></th>\n",
       "    </tr>\n",
       "  </thead>\n",
       "  <tbody>\n",
       "    <tr>\n",
       "      <th>190k</th>\n",
       "      <td>0.686</td>\n",
       "    </tr>\n",
       "    <tr>\n",
       "      <th>195k</th>\n",
       "      <td>0.584</td>\n",
       "    </tr>\n",
       "    <tr>\n",
       "      <th>200k</th>\n",
       "      <td>0.565</td>\n",
       "    </tr>\n",
       "    <tr>\n",
       "      <th>250k</th>\n",
       "      <td>4.572</td>\n",
       "    </tr>\n",
       "    <tr>\n",
       "      <th>250k+</th>\n",
       "      <td>6.375</td>\n",
       "    </tr>\n",
       "  </tbody>\n",
       "</table>\n",
       "</div>"
      ],
      "text/plain": [
       "              Households in Bracket\n",
       "Income Level                       \n",
       "190k                          0.686\n",
       "195k                          0.584\n",
       "200k                          0.565\n",
       "250k                          4.572\n",
       "250k+                         6.375"
      ]
     },
     "execution_count": 7,
     "metadata": {},
     "output_type": "execute_result"
    }
   ],
   "source": [
    "income_dct = {\"Income Level\": np.array(income_levels),\n",
    "                           \"Households in Bracket\":households}\n",
    "income_data = pd.DataFrame(income_dct).set_index(\"Income Level\")\n",
    "income_data.tail()"
   ]
  },
  {
   "cell_type": "code",
   "execution_count": 8,
   "id": "71ae8cda-da83-4d72-80eb-3fe5c31d33eb",
   "metadata": {},
   "outputs": [
    {
     "data": {
      "text/html": [
       "<div>\n",
       "<style scoped>\n",
       "    .dataframe tbody tr th:only-of-type {\n",
       "        vertical-align: middle;\n",
       "    }\n",
       "\n",
       "    .dataframe tbody tr th {\n",
       "        vertical-align: top;\n",
       "    }\n",
       "\n",
       "    .dataframe thead th {\n",
       "        text-align: right;\n",
       "    }\n",
       "</style>\n",
       "<table border=\"1\" class=\"dataframe\">\n",
       "  <thead>\n",
       "    <tr style=\"text-align: right;\">\n",
       "      <th></th>\n",
       "      <th>Households in Bracket</th>\n",
       "      <th>Cumulative</th>\n",
       "    </tr>\n",
       "    <tr>\n",
       "      <th>Income Level</th>\n",
       "      <th></th>\n",
       "      <th></th>\n",
       "    </tr>\n",
       "  </thead>\n",
       "  <tbody>\n",
       "    <tr>\n",
       "      <th>190k</th>\n",
       "      <td>0.686</td>\n",
       "      <td>116.485</td>\n",
       "    </tr>\n",
       "    <tr>\n",
       "      <th>195k</th>\n",
       "      <td>0.584</td>\n",
       "      <td>117.069</td>\n",
       "    </tr>\n",
       "    <tr>\n",
       "      <th>200k</th>\n",
       "      <td>0.565</td>\n",
       "      <td>117.634</td>\n",
       "    </tr>\n",
       "    <tr>\n",
       "      <th>250k</th>\n",
       "      <td>4.572</td>\n",
       "      <td>122.206</td>\n",
       "    </tr>\n",
       "    <tr>\n",
       "      <th>250k+</th>\n",
       "      <td>6.375</td>\n",
       "      <td>128.581</td>\n",
       "    </tr>\n",
       "  </tbody>\n",
       "</table>\n",
       "</div>"
      ],
      "text/plain": [
       "              Households in Bracket  Cumulative\n",
       "Income Level                                   \n",
       "190k                          0.686     116.485\n",
       "195k                          0.584     117.069\n",
       "200k                          0.565     117.634\n",
       "250k                          4.572     122.206\n",
       "250k+                         6.375     128.581"
      ]
     },
     "execution_count": 8,
     "metadata": {},
     "output_type": "execute_result"
    }
   ],
   "source": [
    "income_data[\"Cumulative\"] = income_data[\"Households in Bracket\"].cumsum()\n",
    "income_data.tail()"
   ]
  },
  {
   "cell_type": "code",
   "execution_count": 9,
   "id": "b17ff738-5ed3-4009-a737-a1790245929d",
   "metadata": {},
   "outputs": [
    {
     "data": {
      "text/plain": [
       "<Axes: xlabel='Income Level'>"
      ]
     },
     "execution_count": 9,
     "metadata": {},
     "output_type": "execute_result"
    },
    {
     "data": {
      "image/png": "[encoded data removed]",
      "text/plain": [
       "<Figure size 640x480 with 1 Axes>"
      ]
     },
     "metadata": {},
     "output_type": "display_data"
    }
   ],
   "source": [
    "income_data.plot(legend=  False)"
   ]
  },
  {
   "cell_type": "code",
   "execution_count": 10,
   "id": "7619385d-3b7c-42c0-9a41-9812b9aeaaca",
   "metadata": {},
   "outputs": [
    {
     "data": {
      "text/plain": [
       "128.58100000000002"
      ]
     },
     "execution_count": 10,
     "metadata": {},
     "output_type": "execute_result"
    }
   ],
   "source": [
    "total_households = income_data[\"Households in Bracket\"].sum()\n",
    "total_households"
   ]
  },
  {
   "cell_type": "code",
   "execution_count": 11,
   "id": "b6d323c4-e7ac-419f-a8a1-2d05fd5d9671",
   "metadata": {},
   "outputs": [
    {
     "data": {
      "text/html": [
       "<div>\n",
       "<style scoped>\n",
       "    .dataframe tbody tr th:only-of-type {\n",
       "        vertical-align: middle;\n",
       "    }\n",
       "\n",
       "    .dataframe tbody tr th {\n",
       "        vertical-align: top;\n",
       "    }\n",
       "\n",
       "    .dataframe thead th {\n",
       "        text-align: right;\n",
       "    }\n",
       "</style>\n",
       "<table border=\"1\" class=\"dataframe\">\n",
       "  <thead>\n",
       "    <tr style=\"text-align: right;\">\n",
       "      <th></th>\n",
       "      <th>Households in Bracket</th>\n",
       "      <th>Cumulative</th>\n",
       "      <th>% in Bracket</th>\n",
       "      <th>Cumulative %</th>\n",
       "    </tr>\n",
       "    <tr>\n",
       "      <th>Income Level</th>\n",
       "      <th></th>\n",
       "      <th></th>\n",
       "      <th></th>\n",
       "      <th></th>\n",
       "    </tr>\n",
       "  </thead>\n",
       "  <tbody>\n",
       "    <tr>\n",
       "      <th>0k</th>\n",
       "      <td>0.000</td>\n",
       "      <td>0.000</td>\n",
       "      <td>0.000000</td>\n",
       "      <td>0.000000</td>\n",
       "    </tr>\n",
       "    <tr>\n",
       "      <th>5k</th>\n",
       "      <td>4.283</td>\n",
       "      <td>4.283</td>\n",
       "      <td>3.330974</td>\n",
       "      <td>3.330974</td>\n",
       "    </tr>\n",
       "    <tr>\n",
       "      <th>10k</th>\n",
       "      <td>3.337</td>\n",
       "      <td>7.620</td>\n",
       "      <td>2.595251</td>\n",
       "      <td>5.926225</td>\n",
       "    </tr>\n",
       "    <tr>\n",
       "      <th>15k</th>\n",
       "      <td>5.510</td>\n",
       "      <td>13.130</td>\n",
       "      <td>4.285237</td>\n",
       "      <td>10.211462</td>\n",
       "    </tr>\n",
       "    <tr>\n",
       "      <th>20k</th>\n",
       "      <td>5.772</td>\n",
       "      <td>18.902</td>\n",
       "      <td>4.488999</td>\n",
       "      <td>14.700461</td>\n",
       "    </tr>\n",
       "    <tr>\n",
       "      <th>25k</th>\n",
       "      <td>5.672</td>\n",
       "      <td>24.574</td>\n",
       "      <td>4.411227</td>\n",
       "      <td>19.111688</td>\n",
       "    </tr>\n",
       "    <tr>\n",
       "      <th>30k</th>\n",
       "      <td>5.469</td>\n",
       "      <td>30.043</td>\n",
       "      <td>4.253350</td>\n",
       "      <td>23.365038</td>\n",
       "    </tr>\n",
       "    <tr>\n",
       "      <th>35k</th>\n",
       "      <td>5.822</td>\n",
       "      <td>35.865</td>\n",
       "      <td>4.527885</td>\n",
       "      <td>27.892924</td>\n",
       "    </tr>\n",
       "    <tr>\n",
       "      <th>40k</th>\n",
       "      <td>5.404</td>\n",
       "      <td>41.269</td>\n",
       "      <td>4.202798</td>\n",
       "      <td>32.095722</td>\n",
       "    </tr>\n",
       "    <tr>\n",
       "      <th>45k</th>\n",
       "      <td>5.195</td>\n",
       "      <td>46.464</td>\n",
       "      <td>4.040255</td>\n",
       "      <td>36.135977</td>\n",
       "    </tr>\n",
       "    <tr>\n",
       "      <th>50k</th>\n",
       "      <td>4.839</td>\n",
       "      <td>51.303</td>\n",
       "      <td>3.763387</td>\n",
       "      <td>39.899363</td>\n",
       "    </tr>\n",
       "    <tr>\n",
       "      <th>55k</th>\n",
       "      <td>5.300</td>\n",
       "      <td>56.603</td>\n",
       "      <td>4.121915</td>\n",
       "      <td>44.021278</td>\n",
       "    </tr>\n",
       "    <tr>\n",
       "      <th>60k</th>\n",
       "      <td>4.417</td>\n",
       "      <td>61.020</td>\n",
       "      <td>3.435189</td>\n",
       "      <td>47.456467</td>\n",
       "    </tr>\n",
       "    <tr>\n",
       "      <th>65k</th>\n",
       "      <td>4.604</td>\n",
       "      <td>65.624</td>\n",
       "      <td>3.580622</td>\n",
       "      <td>51.037089</td>\n",
       "    </tr>\n",
       "    <tr>\n",
       "      <th>70k</th>\n",
       "      <td>3.999</td>\n",
       "      <td>69.623</td>\n",
       "      <td>3.110102</td>\n",
       "      <td>54.147191</td>\n",
       "    </tr>\n",
       "    <tr>\n",
       "      <th>75k</th>\n",
       "      <td>3.795</td>\n",
       "      <td>73.418</td>\n",
       "      <td>2.951447</td>\n",
       "      <td>57.098638</td>\n",
       "    </tr>\n",
       "    <tr>\n",
       "      <th>80k</th>\n",
       "      <td>3.950</td>\n",
       "      <td>77.368</td>\n",
       "      <td>3.071994</td>\n",
       "      <td>60.170632</td>\n",
       "    </tr>\n",
       "    <tr>\n",
       "      <th>85k</th>\n",
       "      <td>3.349</td>\n",
       "      <td>80.717</td>\n",
       "      <td>2.604584</td>\n",
       "      <td>62.775216</td>\n",
       "    </tr>\n",
       "    <tr>\n",
       "      <th>90k</th>\n",
       "      <td>3.064</td>\n",
       "      <td>83.781</td>\n",
       "      <td>2.382934</td>\n",
       "      <td>65.158149</td>\n",
       "    </tr>\n",
       "    <tr>\n",
       "      <th>95k</th>\n",
       "      <td>3.102</td>\n",
       "      <td>86.883</td>\n",
       "      <td>2.412487</td>\n",
       "      <td>67.570636</td>\n",
       "    </tr>\n",
       "    <tr>\n",
       "      <th>100k</th>\n",
       "      <td>2.581</td>\n",
       "      <td>89.464</td>\n",
       "      <td>2.007295</td>\n",
       "      <td>69.577931</td>\n",
       "    </tr>\n",
       "    <tr>\n",
       "      <th>105k</th>\n",
       "      <td>2.866</td>\n",
       "      <td>92.330</td>\n",
       "      <td>2.228945</td>\n",
       "      <td>71.806877</td>\n",
       "    </tr>\n",
       "    <tr>\n",
       "      <th>110k</th>\n",
       "      <td>2.449</td>\n",
       "      <td>94.779</td>\n",
       "      <td>1.904636</td>\n",
       "      <td>73.711513</td>\n",
       "    </tr>\n",
       "    <tr>\n",
       "      <th>115k</th>\n",
       "      <td>2.318</td>\n",
       "      <td>97.097</td>\n",
       "      <td>1.802755</td>\n",
       "      <td>75.514267</td>\n",
       "    </tr>\n",
       "    <tr>\n",
       "      <th>120k</th>\n",
       "      <td>1.971</td>\n",
       "      <td>99.068</td>\n",
       "      <td>1.532886</td>\n",
       "      <td>77.047153</td>\n",
       "    </tr>\n",
       "    <tr>\n",
       "      <th>125k</th>\n",
       "      <td>2.004</td>\n",
       "      <td>101.072</td>\n",
       "      <td>1.558551</td>\n",
       "      <td>78.605704</td>\n",
       "    </tr>\n",
       "    <tr>\n",
       "      <th>130k</th>\n",
       "      <td>1.780</td>\n",
       "      <td>102.852</td>\n",
       "      <td>1.384341</td>\n",
       "      <td>79.990045</td>\n",
       "    </tr>\n",
       "    <tr>\n",
       "      <th>135k</th>\n",
       "      <td>1.678</td>\n",
       "      <td>104.530</td>\n",
       "      <td>1.305014</td>\n",
       "      <td>81.295059</td>\n",
       "    </tr>\n",
       "    <tr>\n",
       "      <th>140k</th>\n",
       "      <td>1.426</td>\n",
       "      <td>105.956</td>\n",
       "      <td>1.109029</td>\n",
       "      <td>82.404088</td>\n",
       "    </tr>\n",
       "    <tr>\n",
       "      <th>145k</th>\n",
       "      <td>1.414</td>\n",
       "      <td>107.370</td>\n",
       "      <td>1.099696</td>\n",
       "      <td>83.503784</td>\n",
       "    </tr>\n",
       "    <tr>\n",
       "      <th>150k</th>\n",
       "      <td>1.316</td>\n",
       "      <td>108.686</td>\n",
       "      <td>1.023479</td>\n",
       "      <td>84.527263</td>\n",
       "    </tr>\n",
       "    <tr>\n",
       "      <th>155k</th>\n",
       "      <td>1.492</td>\n",
       "      <td>110.178</td>\n",
       "      <td>1.160358</td>\n",
       "      <td>85.687621</td>\n",
       "    </tr>\n",
       "    <tr>\n",
       "      <th>160k</th>\n",
       "      <td>0.978</td>\n",
       "      <td>111.156</td>\n",
       "      <td>0.760610</td>\n",
       "      <td>86.448231</td>\n",
       "    </tr>\n",
       "    <tr>\n",
       "      <th>165k</th>\n",
       "      <td>1.161</td>\n",
       "      <td>112.317</td>\n",
       "      <td>0.902933</td>\n",
       "      <td>87.351164</td>\n",
       "    </tr>\n",
       "    <tr>\n",
       "      <th>170k</th>\n",
       "      <td>0.970</td>\n",
       "      <td>113.287</td>\n",
       "      <td>0.754388</td>\n",
       "      <td>88.105552</td>\n",
       "    </tr>\n",
       "    <tr>\n",
       "      <th>175k</th>\n",
       "      <td>0.905</td>\n",
       "      <td>114.192</td>\n",
       "      <td>0.703836</td>\n",
       "      <td>88.809389</td>\n",
       "    </tr>\n",
       "    <tr>\n",
       "      <th>180k</th>\n",
       "      <td>0.835</td>\n",
       "      <td>115.027</td>\n",
       "      <td>0.649396</td>\n",
       "      <td>89.458785</td>\n",
       "    </tr>\n",
       "    <tr>\n",
       "      <th>185k</th>\n",
       "      <td>0.772</td>\n",
       "      <td>115.799</td>\n",
       "      <td>0.600400</td>\n",
       "      <td>90.059184</td>\n",
       "    </tr>\n",
       "    <tr>\n",
       "      <th>190k</th>\n",
       "      <td>0.686</td>\n",
       "      <td>116.485</td>\n",
       "      <td>0.533516</td>\n",
       "      <td>90.592700</td>\n",
       "    </tr>\n",
       "    <tr>\n",
       "      <th>195k</th>\n",
       "      <td>0.584</td>\n",
       "      <td>117.069</td>\n",
       "      <td>0.454188</td>\n",
       "      <td>91.046889</td>\n",
       "    </tr>\n",
       "    <tr>\n",
       "      <th>200k</th>\n",
       "      <td>0.565</td>\n",
       "      <td>117.634</td>\n",
       "      <td>0.439412</td>\n",
       "      <td>91.486300</td>\n",
       "    </tr>\n",
       "    <tr>\n",
       "      <th>250k</th>\n",
       "      <td>4.572</td>\n",
       "      <td>122.206</td>\n",
       "      <td>3.555735</td>\n",
       "      <td>95.042036</td>\n",
       "    </tr>\n",
       "    <tr>\n",
       "      <th>250k+</th>\n",
       "      <td>6.375</td>\n",
       "      <td>128.581</td>\n",
       "      <td>4.957964</td>\n",
       "      <td>100.000000</td>\n",
       "    </tr>\n",
       "  </tbody>\n",
       "</table>\n",
       "</div>"
      ],
      "text/plain": [
       "              Households in Bracket  Cumulative  % in Bracket  Cumulative %\n",
       "Income Level                                                               \n",
       "0k                            0.000       0.000      0.000000      0.000000\n",
       "5k                            4.283       4.283      3.330974      3.330974\n",
       "10k                           3.337       7.620      2.595251      5.926225\n",
       "15k                           5.510      13.130      4.285237     10.211462\n",
       "20k                           5.772      18.902      4.488999     14.700461\n",
       "25k                           5.672      24.574      4.411227     19.111688\n",
       "30k                           5.469      30.043      4.253350     23.365038\n",
       "35k                           5.822      35.865      4.527885     27.892924\n",
       "40k                           5.404      41.269      4.202798     32.095722\n",
       "45k                           5.195      46.464      4.040255     36.135977\n",
       "50k                           4.839      51.303      3.763387     39.899363\n",
       "55k                           5.300      56.603      4.121915     44.021278\n",
       "60k                           4.417      61.020      3.435189     47.456467\n",
       "65k                           4.604      65.624      3.580622     51.037089\n",
       "70k                           3.999      69.623      3.110102     54.147191\n",
       "75k                           3.795      73.418      2.951447     57.098638\n",
       "80k                           3.950      77.368      3.071994     60.170632\n",
       "85k                           3.349      80.717      2.604584     62.775216\n",
       "90k                           3.064      83.781      2.382934     65.158149\n",
       "95k                           3.102      86.883      2.412487     67.570636\n",
       "100k                          2.581      89.464      2.007295     69.577931\n",
       "105k                          2.866      92.330      2.228945     71.806877\n",
       "110k                          2.449      94.779      1.904636     73.711513\n",
       "115k                          2.318      97.097      1.802755     75.514267\n",
       "120k                          1.971      99.068      1.532886     77.047153\n",
       "125k                          2.004     101.072      1.558551     78.605704\n",
       "130k                          1.780     102.852      1.384341     79.990045\n",
       "135k                          1.678     104.530      1.305014     81.295059\n",
       "140k                          1.426     105.956      1.109029     82.404088\n",
       "145k                          1.414     107.370      1.099696     83.503784\n",
       "150k                          1.316     108.686      1.023479     84.527263\n",
       "155k                          1.492     110.178      1.160358     85.687621\n",
       "160k                          0.978     111.156      0.760610     86.448231\n",
       "165k                          1.161     112.317      0.902933     87.351164\n",
       "170k                          0.970     113.287      0.754388     88.105552\n",
       "175k                          0.905     114.192      0.703836     88.809389\n",
       "180k                          0.835     115.027      0.649396     89.458785\n",
       "185k                          0.772     115.799      0.600400     90.059184\n",
       "190k                          0.686     116.485      0.533516     90.592700\n",
       "195k                          0.584     117.069      0.454188     91.046889\n",
       "200k                          0.565     117.634      0.439412     91.486300\n",
       "250k                          4.572     122.206      3.555735     95.042036\n",
       "250k+                         6.375     128.581      4.957964    100.000000"
      ]
     },
     "execution_count": 11,
     "metadata": {},
     "output_type": "execute_result"
    }
   ],
   "source": [
    "income_data[\"% in Bracket\"] = income_data[\"Households in Bracket\"].div(\n",
    "    total_households).mul(100)\n",
    "income_data[\"Cumulative %\"] = income_data[\"% in Bracket\"].cumsum()\n",
    "income_data"
   ]
  },
  {
   "cell_type": "code",
   "execution_count": 12,
   "id": "55844e6a-38a1-4c5e-a39e-68ea86659de0",
   "metadata": {},
   "outputs": [
    {
     "data": {
      "text/plain": [
       "Text(0.5, 1.0, 'Median Bracket: \\\\$60k - \\\\$65k\\nIncome Distribution in the United States')"
      ]
     },
     "execution_count": 12,
     "metadata": {},
     "output_type": "execute_result"
    },
    {
     "data": {
      "image/png": "[encoded data removed]",
      "text/plain": [
       "<Figure size 1500x700 with 2 Axes>"
      ]
     },
     "metadata": {},
     "output_type": "display_data"
    }
   ],
   "source": [
    "plt.rcParams.update({\"font.size\":16})\n",
    "fig, ax = plt.subplots(figsize = (15,7))\n",
    "# create a dataframe that exactly reflects the plot\n",
    "plot_df = income_data.copy()\n",
    "plot_df.plot.bar(\n",
    "    y = [\"% in Bracket\", \"Cumulative %\"],\n",
    "    secondary_y = \"Cumulative %\",\n",
    "    fill = True,\n",
    "    alpha = .75, \n",
    "    width = .99,\n",
    "    legend = True,\n",
    "    ax = ax)\n",
    "\n",
    "# add $ in front of each label\n",
    "x_ticklabels = [\"$\" + str(x) for x in plot_df.index]\n",
    "ax.set_xticklabels(x_ticklabels)\n",
    "\n",
    "# calculate and plot the median value\n",
    "#  plot_df[\"Cumulative %\"][plot_df[\"Cumulative %\"] >=50]\n",
    "index = list(plot_df.index).index(\"60k\")\n",
    "ax.axvline(index + .5, linewidth = 15, color = \"C3\", alpha = .75,\n",
    "          label = \"Median\")\n",
    "ax.set_title(\"Median Bracket: \\$60k - \\$65k\\nIncome Distribution in the United States\")"
   ]
  },
  {
   "cell_type": "code",
   "execution_count": 13,
   "id": "7bf48ca0-919c-4505-82c8-576d23915784",
   "metadata": {},
   "outputs": [
    {
     "name": "stderr",
     "output_type": "stream",
     "text": [
      "/tmp/ipykernel_379/1938834451.py:2: SettingWithCopyWarning: \n",
      "A value is trying to be set on a copy of a slice from a DataFrame\n",
      "\n",
      "See the caveats in the documentation: https://pandas.pydata.org/pandas-docs/stable/user_guide/indexing.html#returning-a-view-versus-a-copy\n",
      "  income_25k_bin.loc[\"250k\"] = income_data.iloc[-1]\n",
      "/tmp/ipykernel_379/1938834451.py:5: SettingWithCopyWarning: \n",
      "A value is trying to be set on a copy of a slice from a DataFrame.\n",
      "Try using .loc[row_indexer,col_indexer] = value instead\n",
      "\n",
      "See the caveats in the documentation: https://pandas.pydata.org/pandas-docs/stable/user_guide/indexing.html#returning-a-view-versus-a-copy\n",
      "  income_25k_bin[\"Households in Bracket\"] = income_25k_bin[\"Cumulative\"].diff()\n",
      "/tmp/ipykernel_379/1938834451.py:6: SettingWithCopyWarning: \n",
      "A value is trying to be set on a copy of a slice from a DataFrame.\n",
      "Try using .loc[row_indexer,col_indexer] = value instead\n",
      "\n",
      "See the caveats in the documentation: https://pandas.pydata.org/pandas-docs/stable/user_guide/indexing.html#returning-a-view-versus-a-copy\n",
      "  income_25k_bin[\"% in Bracket\"] = income_25k_bin[\"Households in Bracket\"].div(\n"
     ]
    },
    {
     "data": {
      "text/html": [
       "<div>\n",
       "<style scoped>\n",
       "    .dataframe tbody tr th:only-of-type {\n",
       "        vertical-align: middle;\n",
       "    }\n",
       "\n",
       "    .dataframe tbody tr th {\n",
       "        vertical-align: top;\n",
       "    }\n",
       "\n",
       "    .dataframe thead th {\n",
       "        text-align: right;\n",
       "    }\n",
       "</style>\n",
       "<table border=\"1\" class=\"dataframe\">\n",
       "  <thead>\n",
       "    <tr style=\"text-align: right;\">\n",
       "      <th></th>\n",
       "      <th>Households in Bracket</th>\n",
       "      <th>Cumulative</th>\n",
       "      <th>% in Bracket</th>\n",
       "      <th>Cumulative %</th>\n",
       "    </tr>\n",
       "    <tr>\n",
       "      <th>Income Level</th>\n",
       "      <th></th>\n",
       "      <th></th>\n",
       "      <th></th>\n",
       "      <th></th>\n",
       "    </tr>\n",
       "  </thead>\n",
       "  <tbody>\n",
       "    <tr>\n",
       "      <th>0k</th>\n",
       "      <td>NaN</td>\n",
       "      <td>0.000</td>\n",
       "      <td>NaN</td>\n",
       "      <td>0.000000</td>\n",
       "    </tr>\n",
       "    <tr>\n",
       "      <th>25k</th>\n",
       "      <td>24.574</td>\n",
       "      <td>24.574</td>\n",
       "      <td>19.111688</td>\n",
       "      <td>19.111688</td>\n",
       "    </tr>\n",
       "    <tr>\n",
       "      <th>50k</th>\n",
       "      <td>26.729</td>\n",
       "      <td>51.303</td>\n",
       "      <td>20.787675</td>\n",
       "      <td>39.899363</td>\n",
       "    </tr>\n",
       "    <tr>\n",
       "      <th>75k</th>\n",
       "      <td>22.115</td>\n",
       "      <td>73.418</td>\n",
       "      <td>17.199275</td>\n",
       "      <td>57.098638</td>\n",
       "    </tr>\n",
       "    <tr>\n",
       "      <th>100k</th>\n",
       "      <td>16.046</td>\n",
       "      <td>89.464</td>\n",
       "      <td>12.479293</td>\n",
       "      <td>69.577931</td>\n",
       "    </tr>\n",
       "    <tr>\n",
       "      <th>125k</th>\n",
       "      <td>11.608</td>\n",
       "      <td>101.072</td>\n",
       "      <td>9.027772</td>\n",
       "      <td>78.605704</td>\n",
       "    </tr>\n",
       "    <tr>\n",
       "      <th>150k</th>\n",
       "      <td>7.614</td>\n",
       "      <td>108.686</td>\n",
       "      <td>5.921559</td>\n",
       "      <td>84.527263</td>\n",
       "    </tr>\n",
       "    <tr>\n",
       "      <th>175k</th>\n",
       "      <td>5.506</td>\n",
       "      <td>114.192</td>\n",
       "      <td>4.282126</td>\n",
       "      <td>88.809389</td>\n",
       "    </tr>\n",
       "    <tr>\n",
       "      <th>200k</th>\n",
       "      <td>3.442</td>\n",
       "      <td>117.634</td>\n",
       "      <td>2.676912</td>\n",
       "      <td>91.486300</td>\n",
       "    </tr>\n",
       "    <tr>\n",
       "      <th>250k</th>\n",
       "      <td>10.947</td>\n",
       "      <td>128.581</td>\n",
       "      <td>8.513700</td>\n",
       "      <td>100.000000</td>\n",
       "    </tr>\n",
       "  </tbody>\n",
       "</table>\n",
       "</div>"
      ],
      "text/plain": [
       "              Households in Bracket  Cumulative  % in Bracket  Cumulative %\n",
       "Income Level                                                               \n",
       "0k                              NaN       0.000           NaN      0.000000\n",
       "25k                          24.574      24.574     19.111688     19.111688\n",
       "50k                          26.729      51.303     20.787675     39.899363\n",
       "75k                          22.115      73.418     17.199275     57.098638\n",
       "100k                         16.046      89.464     12.479293     69.577931\n",
       "125k                         11.608     101.072      9.027772     78.605704\n",
       "150k                          7.614     108.686      5.921559     84.527263\n",
       "175k                          5.506     114.192      4.282126     88.809389\n",
       "200k                          3.442     117.634      2.676912     91.486300\n",
       "250k                         10.947     128.581      8.513700    100.000000"
      ]
     },
     "execution_count": 13,
     "metadata": {},
     "output_type": "execute_result"
    }
   ],
   "source": [
    "income_25k_bin = income_data.loc[::5]\n",
    "income_25k_bin.loc[\"250k\"] = income_data.iloc[-1]\n",
    "# income_25k_bin[\"Households in Bracket\"] = income_25k_bin[\"Cumulative\"]\n",
    "# income_25k_bin[\"Households in Bracket\"] = income_25k_bin[\"Households in Bracket\"].diff()\n",
    "income_25k_bin[\"Households in Bracket\"] = income_25k_bin[\"Cumulative\"].diff()\n",
    "income_25k_bin[\"% in Bracket\"] = income_25k_bin[\"Households in Bracket\"].div(\n",
    "    income_25k_bin[\"Households in Bracket\"].sum()).mul(100)\n",
    "income_25k_bin"
   ]
  },
  {
   "cell_type": "code",
   "execution_count": 32,
   "id": "0128d15c-d3c4-4021-b797-281799f2cd83",
   "metadata": {},
   "outputs": [
    {
     "name": "stderr",
     "output_type": "stream",
     "text": [
      "/tmp/ipykernel_379/1714540224.py:15: UserWarning: FixedFormatter should only be used together with FixedLocator\n",
      "  ax.set_yticklabels(y1_ticklabels)\n"
     ]
    },
    {
     "data": {
      "text/plain": [
       "Text(0.5, 1.0, 'Income Distribution in the United States')"
      ]
     },
     "execution_count": 32,
     "metadata": {},
     "output_type": "execute_result"
    },
    {
     "data": {
      "image/png": "[encoded data removed]",
      "text/plain": [
       "<Figure size 1500x1000 with 2 Axes>"
      ]
     },
     "metadata": {},
     "output_type": "display_data"
    }
   ],
   "source": [
    "plt.rcParams.update({\"font.size\" : 20})\n",
    "plot_df = income_25k_bin[[\"% in Bracket\", \"Cumulative %\"]].iloc[1:]\n",
    "fig, ax = plt.subplots(figsize = (15, 10))\n",
    "plot_df.plot.bar(secondary_y = \"Cumulative %\",\n",
    "                 width = .59, \n",
    "                 alpha = .65,\n",
    "                 color = [\"C0\",\"C1\"],\n",
    "                 ax = ax,\n",
    "                legend = True)\n",
    "# ax.legend(loc = \"upper center\")\n",
    "x_ticklabels = [\"$\" + str(x) for x in plot_df.index]\n",
    "ax.set_xticklabels(x_ticklabels)\n",
    "\n",
    "y1_ticklabels = [str(y) + \"%\" for y in ax.get_yticks()]\n",
    "ax.set_yticklabels(y1_ticklabels)\n",
    "ax.set_title(\"Income Distribution in the United States\")"
   ]
  },
  {
   "cell_type": "markdown",
   "id": "44fca999-5e06-4fc9-bd14-ef319aab754c",
   "metadata": {},
   "source": [
    "# -------------------- Class 7 ---------------------"
   ]
  },
  {
   "cell_type": "markdown",
   "id": "427a7e95-247d-4bca-aa5f-9d2dab86edb1",
   "metadata": {},
   "source": [
    "# Project 4: Chapter 4: Functional Programming: Rudimentary Probability, Statistics, and Analytics\n"
   ]
  },
  {
   "cell_type": "code",
   "execution_count": 133,
   "id": "d964f495-c781-4ecf-a72b-f7fc4c0f7010",
   "metadata": {},
   "outputs": [],
   "source": [
    "# statistical functions\n",
    "import random"
   ]
  },
  {
   "cell_type": "code",
   "execution_count": 200,
   "id": "55d0edf4-ee2f-4b2e-8b1d-940928a4ae67",
   "metadata": {},
   "outputs": [
    {
     "name": "stdout",
     "output_type": "stream",
     "text": [
      "x1: [3, 6, 9, 12, 15, 18, 21, 24, 27, 30]\n",
      "x2: [6, 10, 7, 10, 6, 6, 8, 7, 2, 0]\n"
     ]
    }
   ],
   "source": [
    "def total(lst):\n",
    "    total_=0\n",
    "    n= len(lst)\n",
    "    for i in range(n):\n",
    "        total_+=lst [i]\n",
    "        \n",
    "    for val in lst:\n",
    "        total_=+val\n",
    "        return total_\n",
    "x1= [3, 6, 9, 12, 15,18,21,24,27,30]\n",
    "x2=[random.randint(0,10) for i in range(10)]\n",
    "print (\"x1:\", x1)\n",
    "print (\"x2:\", x2)"
   ]
  },
  {
   "cell_type": "code",
   "execution_count": 202,
   "id": "95ca1a89-c60f-4ad7-b8f6-50b7ccfc4fd7",
   "metadata": {},
   "outputs": [
    {
     "name": "stdout",
     "output_type": "stream",
     "text": [
      "Total x1: 3\n",
      "Total x2: 6\n"
     ]
    }
   ],
   "source": [
    "total1=total(x1)\n",
    "total2=total(x2)\n",
    "print(\"Total x1:\",total1)\n",
    "print(\"Total x2:\",total2)"
   ]
  },
  {
   "cell_type": "code",
   "execution_count": 204,
   "id": "a1333d8b-012b-4975-94a0-e6ab3db13e9e",
   "metadata": {},
   "outputs": [],
   "source": [
    "# Mean- total by number of samples\n",
    "\n",
    "def mean(lst):\n",
    "    n = len(lst)\n",
    "    mean_ = total(lst) / n\n",
    "    return mean_"
   ]
  },
  {
   "cell_type": "code",
   "execution_count": 206,
   "id": "721569be-d119-4951-8876-c2506a40e672",
   "metadata": {},
   "outputs": [
    {
     "name": "stdout",
     "output_type": "stream",
     "text": [
      "mean of X1: 0.3\n",
      "mean of X2: 0.6\n"
     ]
    }
   ],
   "source": [
    "print(\"mean of X1:\", mean(x1))\n",
    "print(\"mean of X2:\", mean(x2))"
   ]
  },
  {
   "cell_type": "code",
   "execution_count": 208,
   "id": "bdd9c7ce-883a-48a9-96ea-2f27c7ef5710",
   "metadata": {},
   "outputs": [
    {
     "data": {
      "text/plain": [
       "(16.5, 6.2)"
      ]
     },
     "execution_count": 208,
     "metadata": {},
     "output_type": "execute_result"
    }
   ],
   "source": [
    "import numpy as np\n",
    "np.mean(x1), np.mean(x2)"
   ]
  },
  {
   "cell_type": "code",
   "execution_count": 210,
   "id": "958fa3b5-c246-47a7-9986-ca680fd09355",
   "metadata": {},
   "outputs": [
    {
     "name": "stdout",
     "output_type": "stream",
     "text": [
      "median of x1: 7.5\n",
      "median of x2: 3.0\n"
     ]
    },
    {
     "data": {
      "text/plain": [
       "5"
      ]
     },
     "execution_count": 210,
     "metadata": {},
     "output_type": "execute_result"
    }
   ],
   "source": [
    "# MEdian- the centre\n",
    "def median(lst):\n",
    "    n = len(lst)\n",
    "    lst = sorted(lst)\n",
    "# the % operator calculates the reminder\n",
    "#case1: list is odd in length (select the middle number)\n",
    "    if n%2 !=0:\n",
    "    # List length is odd\n",
    "        middle_index=int((n-1)/2)\n",
    "        median_=lst[middle_index]\n",
    "        #case 2: list is even- take the average of middle 2 values\n",
    "    else:\n",
    "        upper_middle_index=int(n/2)\n",
    "        lower_middle_index=upper_middle_index-1\n",
    "        median_=mean(lst[lower_middle_index: upper_middle_index+1])\n",
    "    return median_\n",
    "median1=median(x1)\n",
    "median2=median(x2)\n",
    "print(\"median of x1:\", median1)\n",
    "print(\"median of x2:\", median2)\n",
    "\n",
    "n=11\n",
    "int((n-1)/2)"
   ]
  },
  {
   "cell_type": "code",
   "execution_count": 212,
   "id": "8df97c20-8b50-447a-a170-4d3a99d98023",
   "metadata": {},
   "outputs": [
    {
     "data": {
      "text/plain": [
       "18"
      ]
     },
     "execution_count": 212,
     "metadata": {},
     "output_type": "execute_result"
    }
   ],
   "source": [
    "median(x1+[100])"
   ]
  },
  {
   "cell_type": "code",
   "execution_count": 214,
   "id": "90134f7e-944e-436e-811d-06f9c875a07c",
   "metadata": {},
   "outputs": [
    {
     "data": {
      "text/plain": [
       "9.0"
      ]
     },
     "execution_count": 214,
     "metadata": {},
     "output_type": "execute_result"
    }
   ],
   "source": [
    "median(x1+[20,100])"
   ]
  },
  {
   "cell_type": "code",
   "execution_count": 216,
   "id": "31980f56-a495-4c50-bd08-f702e68649d9",
   "metadata": {},
   "outputs": [
    {
     "name": "stdout",
     "output_type": "stream",
     "text": [
      "1\n",
      "1\n",
      "1\n",
      "1\n",
      "1\n",
      "1\n",
      "1\n",
      "1\n",
      "1\n",
      "1\n",
      "mode of x1: [3, 6, 9, 12, 15, 18, 21, 24, 27, 30]\n",
      "1\n",
      "1\n",
      "1\n",
      "2\n",
      "2\n",
      "3\n",
      "3\n",
      "3\n",
      "3\n",
      "3\n",
      "mode of x2: [6]\n",
      "1\n",
      "1\n",
      "1\n",
      "1\n",
      "1\n",
      "1\n",
      "1\n",
      "1\n",
      "1\n",
      "1\n",
      "1\n",
      "1\n",
      "1\n",
      "2\n",
      "2\n",
      "3\n",
      "3\n",
      "3\n",
      "3\n",
      "3\n"
     ]
    },
    {
     "data": {
      "text/plain": [
       "([3, 6, 9, 12, 15, 18, 21, 24, 27, 30], [6])"
      ]
     },
     "execution_count": 216,
     "metadata": {},
     "output_type": "execute_result"
    }
   ],
   "source": [
    "def mode(lst):\n",
    "    # use to record the values how many times they appear\n",
    "    max_count=0\n",
    "    counter_dict ={}\n",
    "    # use set if you dont want to define a value as zero multiple times\n",
    "    for value in lst:\n",
    "        counter_dict[value]=0\n",
    "    for value in lst:\n",
    "        counter_dict[value]+=1\n",
    "        max_count= max(counter_dict.values())\n",
    "        print(max_count)\n",
    "        #mode_=[key for key in counter_dict if counter_dict[key]== max_count\n",
    "        mode_=[key for key, count in counter_dict.items() if count == max_count]\n",
    "    return mode_\n",
    "print(\"mode of x1:\", mode(x1))\n",
    "print(\"mode of x2:\", mode(x2))\n",
    "mode(x1), mode(x2)\n"
   ]
  },
  {
   "cell_type": "code",
   "execution_count": 218,
   "id": "b50670e1-9f38-4c61-9055-a3fe422a190a",
   "metadata": {},
   "outputs": [
    {
     "data": {
      "text/plain": [
       "{1, 2, 3, 4}"
      ]
     },
     "execution_count": 218,
     "metadata": {},
     "output_type": "execute_result"
    }
   ],
   "source": [
    "set([1,1,1,2,2,2,3,3,3,4,4,4,])"
   ]
  },
  {
   "cell_type": "code",
   "execution_count": 220,
   "id": "e275f7fd-a437-4366-b5de-dde42210133f",
   "metadata": {},
   "outputs": [
    {
     "name": "stdout",
     "output_type": "stream",
     "text": [
      "variance x1: 336.68999999999994\n",
      "variance x2: 40.32000000000001\n"
     ]
    }
   ],
   "source": [
    "def variance(lst, sample = True):\n",
    "    # popvar(list) = sum((xi - list_mean)**2) / n for all xi in list\n",
    "    # save mean value of list\n",
    "    list_mean = mean(lst)\n",
    "    # use n to calculate average of sum squared diffs\n",
    "    n = len(lst)\n",
    "    DoF = n - 1\n",
    "    # create value we can add squared diffs to\n",
    "    sum_sq_diff = 0\n",
    "    for val in lst:\n",
    "        # adds each squared diff to sum_sq_diff\n",
    "        sum_sq_diff += (val - list_mean) ** 2\n",
    "    if sample == False:\n",
    "        # normalize result by dividing by n\n",
    "        variance_ = sum_sq_diff / n\n",
    "    else:\n",
    "        # for samples, normalize by dividing by (n-1)\n",
    "        variance_ = sum_sq_diff / DoF\n",
    "    \n",
    "    return variance_\n",
    "\n",
    "variance1 = variance(x1, sample = False)\n",
    "variance2 = variance(x2, sample = False)\n",
    "print(\"variance x1:\", variance1)\n",
    "print(\"variance x2:\", variance2)"
   ]
  },
  {
   "cell_type": "code",
   "execution_count": 222,
   "id": "b2e1d4ec-f535-4326-b707-92caf3428a6a",
   "metadata": {},
   "outputs": [
    {
     "data": {
      "text/plain": [
       "Text(0, 0.6, 'mean(x2)')"
      ]
     },
     "execution_count": 222,
     "metadata": {},
     "output_type": "execute_result"
    },
    {
     "data": {
      "image/png": "[encoded data removed]",
      "text/plain": [
       "<Figure size 2000x1000 with 1 Axes>"
      ]
     },
     "metadata": {},
     "output_type": "display_data"
    }
   ],
   "source": [
    "import matplotlib.pyplot as plt\n",
    "\n",
    "fig, ax=plt.subplots(figsize =(20,10))\n",
    "ax.plot (x2, ls = \"\", marker=\".\", markersize=50)\n",
    "ax.axhline(mean(x2), linewidth =5, alpha=.5, ls= \"--\", color ='k')\n",
    "ax.text(0, mean(x2), \"mean(x2)\", va= \"bottom\", fontsize =30)"
   ]
  },
  {
   "cell_type": "code",
   "execution_count": 224,
   "id": "8eaa8199-e5a6-431f-9af1-f81a7c95fdd2",
   "metadata": {},
   "outputs": [
    {
     "name": "stdout",
     "output_type": "stream",
     "text": [
      "SD of x1: [3, 6, 9, 12, 15, 18, 21, 24, 27, 30]\n",
      "SD of x2: [6, 10, 7, 10, 6, 6, 8, 7, 2, 0]\n"
     ]
    }
   ],
   "source": [
    "def SD(lst, sample = True):\n",
    "    # Standard deviation is the square root of variance\n",
    "    SD_ = variance(lst, sample) ** (1/2)\n",
    "    return SD_\n",
    "\n",
    "print(\"SD of x1:\", x1)\n",
    "print(\"SD of x2:\", x2)"
   ]
  },
  {
   "cell_type": "code",
   "execution_count": 226,
   "id": "469d280e-d470-4e65-abe9-de32dc50cc6f",
   "metadata": {},
   "outputs": [
    {
     "data": {
      "text/plain": [
       "(inf, -inf)"
      ]
     },
     "execution_count": 226,
     "metadata": {},
     "output_type": "execute_result"
    }
   ],
   "source": [
    "np.inf, np.inf*-1"
   ]
  },
  {
   "cell_type": "code",
   "execution_count": 228,
   "id": "07a61c68-6bab-4dd7-964d-0b81640f43fb",
   "metadata": {},
   "outputs": [
    {
     "name": "stdout",
     "output_type": "stream",
     "text": [
      "SE of x1: 6.1163714733492105\n",
      "SE of x2: 2.1166010488516727\n"
     ]
    }
   ],
   "source": [
    "def STE(lst, sample = True):\n",
    "    n = len(lst)\n",
    "    se = SD(lst, sample) / n ** (1/2)\n",
    " \n",
    "    return se\n",
    "print(\"SE of x1:\", STE(x1))\n",
    "print(\"SE of x2:\", STE(x2))"
   ]
  },
  {
   "cell_type": "code",
   "execution_count": null,
   "id": "e7de0f66-503b-410d-857b-559e599c6a51",
   "metadata": {},
   "outputs": [],
   "source": []
  }
 ],
 "metadata": {
  "kernelspec": {
   "display_name": "anaconda-panel-2023.05-py310",
   "language": "python",
   "name": "conda-env-anaconda-panel-2023.05-py310-py"
  },
  "language_info": {
   "codemirror_mode": {
    "name": "ipython",
    "version": 3
   },
   "file_extension": ".py",
   "mimetype": "text/x-python",
   "name": "python",
   "nbconvert_exporter": "python",
   "pygments_lexer": "ipython3",
   "version": "3.11.5"
  }
 },
 "nbformat": 4,
 "nbformat_minor": 5
}
