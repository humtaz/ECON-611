{
 "cells": [
  {
   "cell_type": "markdown",
   "id": "8fb7d16d-4040-481c-b601-35562942da07",
   "metadata": {},
   "source": [
    "# ------Class 3------"
   ]
  },
  {
   "cell_type": "markdown",
   "id": "e2fd634f-cd65-4b1a-8618-93c0b7931cf4",
   "metadata": {},
   "source": [
    "We did learn previously about various lists types: empty [], integer (whole number), string[\"red\", \"blue\"],mixed list [all elements mixed], integer (whole number)"
   ]
  },
  {
   "cell_type": "markdown",
   "id": "9fb8f852-7902-4380-88b2-2878ee0c3859",
   "metadata": {},
   "source": [
    "# Concatenating list: \n",
    "Concatenating 2 lists joins 2 lists into one list"
   ]
  },
  {
   "cell_type": "code",
   "execution_count": 4,
   "id": "9e5e2780-0590-4742-a113-a0b7d2b1a63f",
   "metadata": {},
   "outputs": [
    {
     "data": {
      "text/plain": [
       "'ab'"
      ]
     },
     "execution_count": 4,
     "metadata": {},
     "output_type": "execute_result"
    }
   ],
   "source": [
    "\"a\" + \"b\""
   ]
  },
  {
   "cell_type": "code",
   "execution_count": 5,
   "id": "6fb3a089-b3e1-44f7-a118-8ef2ec190f9c",
   "metadata": {},
   "outputs": [
    {
     "data": {
      "text/plain": [
       "['a', 'b']"
      ]
     },
     "execution_count": 5,
     "metadata": {},
     "output_type": "execute_result"
    }
   ],
   "source": [
    "[\"a\"] +[\"b\"]"
   ]
  },
  {
   "cell_type": "code",
   "execution_count": 6,
   "id": "5a76d326-e890-4169-8fb0-a32af430e5e5",
   "metadata": {},
   "outputs": [
    {
     "data": {
      "text/plain": [
       "['a', 'b']"
      ]
     },
     "execution_count": 6,
     "metadata": {},
     "output_type": "execute_result"
    }
   ],
   "source": [
    "x= [\"a\"]\n",
    "x=x +[\"b\"]\n",
    "x"
   ]
  },
  {
   "cell_type": "markdown",
   "id": "48f103b6-8093-47a2-a7e1-0e7424ff7de7",
   "metadata": {},
   "source": [
    "# Transform a string of characters into a list of string characters"
   ]
  },
  {
   "cell_type": "code",
   "execution_count": 8,
   "id": "e735541d-d9fd-41af-b164-823296ef18e1",
   "metadata": {},
   "outputs": [
    {
     "name": "stdout",
     "output_type": "stream",
     "text": [
      "['a', 'b', 'c', 'd', 'e', 'f', 'g', 'h', 'i', 'j', 'k', 'l', 'm', 'n', 'o', 'p', 'q', 'r', 's', 't', 'u', 'v', 'w', 'x', 'y', 'z']\n"
     ]
    }
   ],
   "source": [
    "aplhabets=\"abcdefghijklmnopqrstuvwxyz\"\n",
    "alpha_list= []\n",
    "# for loop wiill cycle through each character (letter) in the string, alphabet\n",
    "# each character will be represeanted by the variable: letter\n",
    "for letter in aplhabets:\n",
    "    #print(letter)\n",
    "    alpha_list =alpha_list+ [letter]\n",
    "print(alpha_list)"
   ]
  },
  {
   "cell_type": "markdown",
   "id": "25e116dd-ded2-4723-84ee-c2fc1cb84c38",
   "metadata": {},
   "source": [
    "# Transforming a list of strings into a single string with space in btwn each word"
   ]
  },
  {
   "cell_type": "code",
   "execution_count": 10,
   "id": "8ae7d849-1ea4-4bdf-ae3d-5e4a5ee68b79",
   "metadata": {},
   "outputs": [
    {
     "data": {
      "text/plain": [
       "[1, 2, 3, 4, 5, 6, 7, 8, 9, 10]"
      ]
     },
     "execution_count": 10,
     "metadata": {},
     "output_type": "execute_result"
    }
   ],
   "source": [
    "list1=[1,2,3,4,5]\n",
    "list2=[6,7,8,9,10]\n",
    "list1 +list2"
   ]
  },
  {
   "cell_type": "code",
   "execution_count": 11,
   "id": "7cf74103-7fd2-4568-9b14-ef5acf7c1552",
   "metadata": {},
   "outputs": [
    {
     "name": "stdout",
     "output_type": "stream",
     "text": [
      "this is me and my name is humeera \n"
     ]
    },
    {
     "data": {
      "text/plain": [
       "'this is me and my name is humeera'"
      ]
     },
     "execution_count": 11,
     "metadata": {},
     "output_type": "execute_result"
    }
   ],
   "source": [
    "str_list=[\"this is me and my name is humeera\"]\n",
    "new_string=\"\"\n",
    "# the for loop will cycle through each string in the list separately\n",
    "# each string will be identified by the variable: string\n",
    "for string in str_list:\n",
    "    #join each seperate stringto the object, new_string\n",
    "    new_string=new_string + string + \" \"\n",
    "    print (new_string)\n",
    "new_string.strip()"
   ]
  },
  {
   "cell_type": "markdown",
   "id": "49092ec4-436e-43a8-b653-63a01a6501d3",
   "metadata": {},
   "source": [
    "# Range(min, max+1, interval)"
   ]
  },
  {
   "cell_type": "code",
   "execution_count": 13,
   "id": "43b67535-a3ce-45be-93b3-7ef162de33e1",
   "metadata": {},
   "outputs": [
    {
     "name": "stdout",
     "output_type": "stream",
     "text": [
      "0\n",
      "1\n",
      "2\n",
      "3\n",
      "4\n",
      "5\n",
      "6\n",
      "7\n",
      "8\n",
      "9\n"
     ]
    }
   ],
   "source": [
    "for i in range(10):\n",
    "    print (i)"
   ]
  },
  {
   "cell_type": "code",
   "execution_count": 14,
   "id": "249c790c-5441-4f89-becf-8330566c6965",
   "metadata": {},
   "outputs": [
    {
     "name": "stdout",
     "output_type": "stream",
     "text": [
      "0\n",
      "1\n",
      "2\n",
      "3\n",
      "4\n",
      "5\n",
      "6\n",
      "7\n",
      "8\n",
      "9\n"
     ]
    }
   ],
   "source": [
    "for i in range (0,10):\n",
    "    print (i)"
   ]
  },
  {
   "cell_type": "code",
   "execution_count": 15,
   "id": "9706a92b-8e36-40b6-a2d7-7038c9c305c0",
   "metadata": {},
   "outputs": [
    {
     "data": {
      "text/plain": [
       "[-10,\n",
       " -9,\n",
       " -8,\n",
       " -7,\n",
       " -6,\n",
       " -5,\n",
       " -4,\n",
       " -3,\n",
       " -2,\n",
       " -1,\n",
       " 0,\n",
       " 1,\n",
       " 2,\n",
       " 3,\n",
       " 4,\n",
       " 5,\n",
       " 6,\n",
       " 7,\n",
       " 8,\n",
       " 9,\n",
       " 10,\n",
       " 11,\n",
       " 12,\n",
       " 13,\n",
       " 14]"
      ]
     },
     "execution_count": 15,
     "metadata": {},
     "output_type": "execute_result"
    }
   ],
   "source": [
    "range_list= list(range(-10,15))\n",
    "range_list"
   ]
  },
  {
   "cell_type": "code",
   "execution_count": 16,
   "id": "c1f873d9-338f-42e1-9d00-3586bb063dfa",
   "metadata": {},
   "outputs": [
    {
     "data": {
      "text/plain": [
       "range(0, 15)"
      ]
     },
     "execution_count": 16,
     "metadata": {},
     "output_type": "execute_result"
    }
   ],
   "source": [
    "range(0,15)"
   ]
  },
  {
   "cell_type": "code",
   "execution_count": 17,
   "id": "1b4625ce-acff-4849-ab26-c8951c77c931",
   "metadata": {},
   "outputs": [
    {
     "name": "stdout",
     "output_type": "stream",
     "text": [
      "-10\n",
      "-9\n",
      "-8\n",
      "-7\n",
      "-6\n",
      "-5\n",
      "-4\n",
      "-3\n",
      "-2\n",
      "-1\n",
      "0\n",
      "1\n",
      "2\n",
      "3\n",
      "4\n",
      "5\n",
      "6\n",
      "7\n",
      "8\n",
      "9\n",
      "10\n",
      "11\n",
      "12\n",
      "13\n",
      "14\n"
     ]
    }
   ],
   "source": [
    "for i in range_list:\n",
    "    print(i)"
   ]
  },
  {
   "cell_type": "code",
   "execution_count": 18,
   "id": "42e802f1-1d5d-4161-978a-c17266444406",
   "metadata": {},
   "outputs": [
    {
     "name": "stdout",
     "output_type": "stream",
     "text": [
      "-10\n",
      "-9\n",
      "-8\n",
      "-7\n",
      "-6\n",
      "-5\n",
      "-4\n",
      "-3\n",
      "-2\n",
      "-1\n",
      "0\n",
      "1\n",
      "2\n",
      "3\n",
      "4\n",
      "5\n",
      "6\n",
      "7\n",
      "8\n",
      "9\n",
      "10\n",
      "11\n",
      "12\n",
      "13\n",
      "14\n"
     ]
    }
   ],
   "source": [
    "for i in range_list:\n",
    "    print(i)"
   ]
  },
  {
   "cell_type": "code",
   "execution_count": 19,
   "id": "a00cbfb5-9157-4506-9c26-60d18e2c23a8",
   "metadata": {},
   "outputs": [
    {
     "data": {
      "text/plain": [
       "[-15, -13, -11, -9, -7, -5, -3, -1, 1, 3, 5, 7, 9]"
      ]
     },
     "execution_count": 19,
     "metadata": {},
     "output_type": "execute_result"
    }
   ],
   "source": [
    "minrange=-15\n",
    "maxrange = 10\n",
    "interval= 2\n",
    "range_list = list(range(minrange, maxrange +1, interval))\n",
    "range_list"
   ]
  },
  {
   "cell_type": "code",
   "execution_count": 20,
   "id": "899a31dc-b8c4-4bae-beaf-81aa919c317f",
   "metadata": {},
   "outputs": [
    {
     "name": "stdout",
     "output_type": "stream",
     "text": [
      "[-150, -148, -146, -144, -142, -140, -138, -136, -134, -132, -130, -128, -126, -124, -122, -120, -118, -116, -114, -112, -110, -108, -106, -104, -102, -100, -98, -96, -94, -92, -90, -88, -86, -84, -82, -80, -78, -76, -74, -72, -70, -68, -66, -64, -62, -60, -58, -56, -54, -52, -50, -48, -46, -44, -42, -40, -38, -36, -34, -32, -30, -28, -26, -24, -22, -20, -18, -16, -14, -12, -10, -8, -6, -4, -2, 0, 2, 4, 6, 8, 10, 12, 14, 16, 18, 20, 22, 24, 26, 28, 30, 32, 34, 36, 38, 40, 42, 44, 46, 48, 50, 52, 54, 56, 58, 60, 62, 64, 66, 68, 70, 72, 74, 76, 78, 80, 82, 84, 86, 88, 90, 92, 94, 96, 98, 100]\n"
     ]
    }
   ],
   "source": [
    "minrange=-150\n",
    "maxrange = 100\n",
    "interval= 2\n",
    "range_list = list(range(minrange, maxrange +1, interval))\n",
    "print(range_list)"
   ]
  },
  {
   "cell_type": "markdown",
   "id": "d7d60170-88b1-4946-b491-3aec633cb9ac",
   "metadata": {},
   "source": [
    "## interval can be used in range but also be used in calling the slice of the list only when every i elements are called"
   ]
  },
  {
   "cell_type": "code",
   "execution_count": 22,
   "id": "63a834f5-6f63-4f3e-9d06-55a499d2d174",
   "metadata": {},
   "outputs": [
    {
     "name": "stdout",
     "output_type": "stream",
     "text": [
      "[-150, -149, -148, -147, -146, -145, -144, -143, -142, -141, -140, -139, -138, -137, -136, -135, -134, -133, -132, -131, -130, -129, -128, -127, -126, -125, -124, -123, -122, -121, -120, -119, -118, -117, -116, -115, -114, -113, -112, -111, -110, -109, -108, -107, -106, -105, -104, -103, -102, -101, -100, -99, -98, -97, -96, -95, -94, -93, -92, -91, -90, -89, -88, -87, -86, -85, -84, -83, -82, -81, -80, -79, -78, -77, -76, -75, -74, -73, -72, -71, -70, -69, -68, -67, -66, -65, -64, -63, -62, -61, -60, -59, -58, -57, -56, -55, -54, -53, -52, -51, -50, -49, -48, -47, -46, -45, -44, -43, -42, -41, -40, -39, -38, -37, -36, -35, -34, -33, -32, -31, -30, -29, -28, -27, -26, -25, -24, -23, -22, -21, -20, -19, -18, -17, -16, -15, -14, -13, -12, -11, -10, -9, -8, -7, -6, -5, -4, -3, -2, -1, 0, 1, 2, 3, 4, 5, 6, 7, 8, 9, 10, 11, 12, 13, 14, 15, 16, 17, 18, 19, 20, 21, 22, 23, 24, 25, 26, 27, 28, 29, 30, 31, 32, 33, 34, 35, 36, 37, 38, 39, 40, 41, 42, 43, 44, 45, 46, 47, 48, 49, 50, 51, 52, 53, 54, 55, 56, 57, 58, 59, 60, 61, 62, 63, 64, 65, 66, 67, 68, 69, 70, 71, 72, 73, 74, 75, 76, 77, 78, 79, 80, 81, 82, 83, 84, 85, 86, 87, 88, 89, 90, 91, 92, 93, 94, 95, 96, 97, 98, 99, 100]\n",
      "[-150, -148, -146, -144, -142, -140, -138, -136, -134, -132, -130, -128, -126, -124, -122, -120, -118, -116, -114, -112, -110, -108, -106, -104, -102, -100, -98, -96, -94, -92, -90, -88, -86, -84, -82, -80, -78, -76, -74, -72, -70, -68, -66, -64, -62, -60, -58, -56, -54, -52, -50, -48, -46, -44, -42, -40, -38, -36, -34, -32, -30, -28, -26, -24, -22, -20, -18, -16, -14, -12, -10, -8, -6, -4, -2, 0, 2, 4, 6, 8, 10, 12, 14, 16, 18, 20, 22, 24, 26, 28, 30, 32, 34, 36, 38, 40, 42, 44, 46, 48, 50, 52, 54, 56, 58, 60, 62, 64, 66, 68, 70, 72, 74, 76, 78, 80, 82, 84, 86, 88, 90, 92, 94, 96, 98, 100]\n"
     ]
    }
   ],
   "source": [
    "minrange=-150\n",
    "maxrange = 100\n",
    "interval= 2\n",
    "range_list = list(range(minrange, maxrange +1))\n",
    "print(range_list)\n",
    "print(range_list[::interval])"
   ]
  },
  {
   "cell_type": "markdown",
   "id": "4227fe4e-6304-42fe-bcdb-74ede4d7de3d",
   "metadata": {},
   "source": [
    "## Generator Functions"
   ]
  },
  {
   "cell_type": "code",
   "execution_count": 24,
   "id": "55c6600c-48d8-462b-b7ac-3df49f170934",
   "metadata": {},
   "outputs": [
    {
     "name": "stdout",
     "output_type": "stream",
     "text": [
      "9\n",
      "9\n",
      "0\n",
      "12\n",
      "7\n",
      "14\n",
      "0\n",
      "8\n",
      "10\n",
      "14\n"
     ]
    }
   ],
   "source": [
    "import random\n",
    "for i in range(10):\n",
    "    print(random.randint(0,15))"
   ]
  },
  {
   "cell_type": "code",
   "execution_count": 25,
   "id": "a3f4e702-bd8b-4234-a0b9-78d76fd5bb73",
   "metadata": {},
   "outputs": [
    {
     "data": {
      "text/plain": [
       "[-20,\n",
       " -19,\n",
       " -18,\n",
       " -17,\n",
       " -16,\n",
       " -15,\n",
       " -14,\n",
       " -13,\n",
       " -12,\n",
       " -11,\n",
       " -10,\n",
       " -9,\n",
       " -8,\n",
       " -7,\n",
       " -6,\n",
       " -5,\n",
       " -4,\n",
       " -3,\n",
       " -2,\n",
       " -1,\n",
       " 0,\n",
       " 1,\n",
       " 2,\n",
       " 3,\n",
       " 4,\n",
       " 5]"
      ]
     },
     "execution_count": 25,
     "metadata": {},
     "output_type": "execute_result"
    }
   ],
   "source": [
    "minrange=-20\n",
    "maxrange=5\n",
    "# x = list(range(minrange, maxrange+1))\n",
    "x = [i for i in range(minrange, maxrange +1)]\n",
    "x"
   ]
  },
  {
   "cell_type": "code",
   "execution_count": 26,
   "id": "05f04e54-838c-4a8b-bbde-86e86d036012",
   "metadata": {},
   "outputs": [
    {
     "data": {
      "text/plain": [
       "[193, 196, 199, 202, 205, 208, 211, 214, 217, 220, 223]"
      ]
     },
     "execution_count": 26,
     "metadata": {},
     "output_type": "execute_result"
    }
   ],
   "source": [
    "minrange=10\n",
    "maxrange=20\n",
    "x=[2* i** 2 + 3*x+1 for x in range(minrange, maxrange+1)]\n",
    "x"
   ]
  },
  {
   "cell_type": "code",
   "execution_count": 27,
   "id": "41132709-7b8b-45e2-a411-6de30815cfd6",
   "metadata": {},
   "outputs": [
    {
     "data": {
      "text/plain": [
       "[52,\n",
       " 55,\n",
       " 58,\n",
       " 61,\n",
       " 64,\n",
       " 67,\n",
       " 70,\n",
       " 73,\n",
       " 76,\n",
       " 79,\n",
       " 82,\n",
       " 85,\n",
       " 88,\n",
       " 91,\n",
       " 94,\n",
       " 97,\n",
       " 100,\n",
       " 103,\n",
       " 106,\n",
       " 109,\n",
       " 112,\n",
       " 115,\n",
       " 118,\n",
       " 121,\n",
       " 124,\n",
       " 127,\n",
       " 130,\n",
       " 133,\n",
       " 136,\n",
       " 139,\n",
       " 142]"
      ]
     },
     "execution_count": 27,
     "metadata": {},
     "output_type": "execute_result"
    }
   ],
   "source": [
    "minrange=-10\n",
    "maxrange=20\n",
    "x=[i** 2 + 3*x+1 for x in range(minrange, maxrange+1)]\n",
    "x"
   ]
  },
  {
   "cell_type": "code",
   "execution_count": 28,
   "id": "02b8f68e-4245-4328-ab38-d55ed3e3b2c5",
   "metadata": {},
   "outputs": [
    {
     "data": {
      "text/plain": [
       "[171,\n",
       " 136,\n",
       " 105,\n",
       " 78,\n",
       " 55,\n",
       " 36,\n",
       " 21,\n",
       " 10,\n",
       " 3,\n",
       " 0,\n",
       " 1,\n",
       " 6,\n",
       " 15,\n",
       " 28,\n",
       " 45,\n",
       " 66,\n",
       " 91,\n",
       " 120,\n",
       " 153,\n",
       " 190,\n",
       " 231,\n",
       " 276,\n",
       " 325,\n",
       " 378,\n",
       " 435,\n",
       " 496,\n",
       " 561,\n",
       " 630,\n",
       " 703,\n",
       " 780,\n",
       " 861]"
      ]
     },
     "execution_count": 28,
     "metadata": {},
     "output_type": "execute_result"
    }
   ],
   "source": [
    "y= [2*x**2+3*x+1 for x in range(minrange, maxrange+1)]\n",
    "y"
   ]
  },
  {
   "cell_type": "markdown",
   "id": "9f725e65-df07-46e3-aee5-e7e09b704cd1",
   "metadata": {},
   "source": [
    "### write equation between $equation$, for centre $$ $$, For  plot (import matplotlib.pyplot as plt)"
   ]
  },
  {
   "cell_type": "markdown",
   "id": "d317b08c-f7de-44f7-aac4-eacef1aa2571",
   "metadata": {},
   "source": [
    "$$y = 2x^2 + 3x +1$$"
   ]
  },
  {
   "cell_type": "code",
   "execution_count": 31,
   "id": "6cd2d1e8-1d64-4e19-af9c-3f69649b5385",
   "metadata": {},
   "outputs": [
    {
     "data": {
      "text/plain": [
       "[<matplotlib.lines.Line2D at 0x7f6ebf77a2d0>]"
      ]
     },
     "execution_count": 31,
     "metadata": {},
     "output_type": "execute_result"
    },
    {
     "data": {
      "image/png": "[encoded data removed]",
      "text/plain": [
       "<Figure size 640x480 with 1 Axes>"
      ]
     },
     "metadata": {},
     "output_type": "display_data"
    }
   ],
   "source": [
    "import matplotlib.pyplot as plt\n",
    "plt.plot(y)"
   ]
  },
  {
   "cell_type": "code",
   "execution_count": 32,
   "id": "85c85829-d99b-4460-af6a-e40a715d43ef",
   "metadata": {},
   "outputs": [
    {
     "data": {
      "text/plain": [
       "[<matplotlib.lines.Line2D at 0x7f6ec48c0110>]"
      ]
     },
     "execution_count": 32,
     "metadata": {},
     "output_type": "execute_result"
    },
    {
     "data": {
      "image/png": "[encoded data removed]",
      "text/plain": [
       "<Figure size 640x480 with 1 Axes>"
      ]
     },
     "metadata": {},
     "output_type": "display_data"
    }
   ],
   "source": [
    "y=[random.randint(minrange, maxrange+1) for x in range(minrange, maxrange+1)]\n",
    "plt.plot(y)"
   ]
  },
  {
   "cell_type": "code",
   "execution_count": 33,
   "id": "2d314311-aa7a-4282-8b2a-97bb560a30a1",
   "metadata": {},
   "outputs": [
    {
     "data": {
      "text/plain": [
       "[<matplotlib.lines.Line2D at 0x7f6eb741bb90>]"
      ]
     },
     "execution_count": 33,
     "metadata": {},
     "output_type": "execute_result"
    },
    {
     "data": {
      "image/png": "[encoded data removed]",
      "text/plain": [
       "<Figure size 640x480 with 1 Axes>"
      ]
     },
     "metadata": {},
     "output_type": "display_data"
    }
   ],
   "source": [
    "y=[random.randint(minrange, maxrange+1) for x in range(10)]\n",
    "plt.plot(y, ls=\"\", marker=\".\")"
   ]
  },
  {
   "cell_type": "code",
   "execution_count": 34,
   "id": "33a2adb7-f150-4587-8409-68d2d9f0fed7",
   "metadata": {},
   "outputs": [
    {
     "data": {
      "text/plain": [
       "[<matplotlib.lines.Line2D at 0x7f6eb72bc710>]"
      ]
     },
     "execution_count": 34,
     "metadata": {},
     "output_type": "execute_result"
    },
    {
     "data": {
      "image/png": "[encoded data removed]",
      "text/plain": [
       "<Figure size 640x480 with 1 Axes>"
      ]
     },
     "metadata": {},
     "output_type": "display_data"
    }
   ],
   "source": [
    "y=[random.randint(minrange, maxrange+1) for x in range(1000)]\n",
    "plt.plot(y, ls=\"\", marker=\".\")"
   ]
  },
  {
   "cell_type": "markdown",
   "id": "a48511f7-8d1f-4700-8735-b65aa80e89f0",
   "metadata": {},
   "source": [
    "# Note: we dont always need to use the value from the for loop. the index in the for loop can define how many times a task is completed rather than indicating what a value should be"
   ]
  },
  {
   "cell_type": "markdown",
   "id": "4be2b6d4-3481-481c-8538-87e1628a1ef5",
   "metadata": {},
   "source": [
    "# ------ Class 4 ---------"
   ]
  },
  {
   "cell_type": "code",
   "execution_count": 37,
   "id": "2eb1d2e1-fafa-411f-9701-cc15c257c118",
   "metadata": {},
   "outputs": [
    {
     "name": "stdout",
     "output_type": "stream",
     "text": [
      "i random_int\n",
      "0 0\n",
      "1 0\n",
      "2 14\n",
      "3 5\n",
      "4 9\n",
      "5 0\n",
      "6 8\n",
      "7 11\n",
      "8 11\n",
      "9 7\n"
     ]
    }
   ],
   "source": [
    "import random\n",
    "print (\"i random_int\")\n",
    "for i in range(10):\n",
    "    print(i, random.randint(0,15))"
   ]
  },
  {
   "cell_type": "code",
   "execution_count": 38,
   "id": "b9e3db58-f9d4-45d5-8df5-52c9dc286dfe",
   "metadata": {},
   "outputs": [
    {
     "name": "stdout",
     "output_type": "stream",
     "text": [
      "[-10, -9, -8, -7, -6, -5, -4, -3, -2, -1, 0, 1, 2, 3, 4, 5, 6, 7, 8, 9, 10, 11, 12, 13, 14, 15, 16, 17, 18, 19, 20]\n",
      "[171, 136, 105, 78, 55, 36, 21, 10, 3, 0, 1, 6, 15, 28, 45, 66, 91, 120, 153, 190, 231, 276, 325, 378, 435, 496, 561, 630, 703, 780, 861]\n",
      "[(-10, 171), (-9, 136), (-8, 105), (-7, 78), (-6, 55), (-5, 36), (-4, 21), (-3, 10), (-2, 3), (-1, 0), (0, 1), (1, 6), (2, 15), (3, 28), (4, 45), (5, 66), (6, 91), (7, 120), (8, 153), (9, 190), (10, 231), (11, 276), (12, 325), (13, 378), (14, 435), (15, 496), (16, 561), (17, 630), (18, 703), (19, 780), (20, 861)]\n"
     ]
    }
   ],
   "source": [
    "x_list=[x for x in range(minrange, maxrange +1)]\n",
    "y=[2*x **2+3*x+1 for x in x_list]\n",
    "print(x_list)\n",
    "print(y)\n",
    "print(list(zip(x_list,y)))\n",
    "#print(y)\n",
    "# zip= will create a single list from list_a, list_bof tuples of the form and same length \n",
    "#((a0,b0), (a1,b1),.....(an,an))"
   ]
  },
  {
   "cell_type": "code",
   "execution_count": 39,
   "id": "908f703b-2f36-44ed-84ab-d5d995587f9c",
   "metadata": {},
   "outputs": [
    {
     "data": {
      "text/plain": [
       "[<matplotlib.lines.Line2D at 0x7f6eb732c710>]"
      ]
     },
     "execution_count": 39,
     "metadata": {},
     "output_type": "execute_result"
    },
    {
     "data": {
      "image/png": "[encoded data removed]",
      "text/plain": [
       "<Figure size 640x480 with 1 Axes>"
      ]
     },
     "metadata": {},
     "output_type": "display_data"
    }
   ],
   "source": [
    "import matplotlib.pyplot as plt\n",
    "plt.plot(x_list,y)"
   ]
  },
  {
   "cell_type": "code",
   "execution_count": 40,
   "id": "987741e9-f881-4fbc-9113-55f205580b1f",
   "metadata": {},
   "outputs": [
    {
     "name": "stdout",
     "output_type": "stream",
     "text": [
      "[-10, -9, -8, -7, -6, -5, -4, -3, -2, -1, 0, 1, 2, 3, 4, 5, 6, 7, 8, 9, 10, 11, 12, 13, 14, 15, 16, 17, 18, 19, 20]\n",
      "[12, 0, 15, 16, 11, 9, 13, 6, -3, -3, -5, 19, 14, -2, -1, 5, 7, 14, 19, 15, 13, -4, 17, -3, -6, 8, 21, -4, 12, -9, -4]\n"
     ]
    }
   ],
   "source": [
    "y=[random.randint(minrange, maxrange+1) for x in x_list]\n",
    "print(x_list)\n",
    "print(y)"
   ]
  },
  {
   "cell_type": "code",
   "execution_count": 41,
   "id": "24b3505d-423e-451d-9bc2-2430600ed1af",
   "metadata": {},
   "outputs": [
    {
     "data": {
      "text/plain": [
       "<matplotlib.collections.PathCollection at 0x7f6eb71ae890>"
      ]
     },
     "execution_count": 41,
     "metadata": {},
     "output_type": "execute_result"
    },
    {
     "data": {
      "image/png": "[encoded data removed]",
      "text/plain": [
       "<Figure size 640x480 with 1 Axes>"
      ]
     },
     "metadata": {},
     "output_type": "display_data"
    }
   ],
   "source": [
    "plt.scatter(x_list,y)"
   ]
  },
  {
   "cell_type": "code",
   "execution_count": 42,
   "id": "eb58f3ff-5ce4-45b1-9a90-7bfb4b59099e",
   "metadata": {},
   "outputs": [
    {
     "name": "stdout",
     "output_type": "stream",
     "text": [
      "[-10, -9, -8, -7, -6, -5, -4, -3, -2, -1, 0, 1, 2, 3, 4, 5, 6, 7, 8, 9, 10, 11, 12, 13, 14, 15, 16, 17, 18, 19, 20]\n",
      "[-33000, -24300, -38400, -8400, -16200, -3000, -2400, -9900, -4200, -3300, 0, 4800, 0, 3600, 20400, 16500, 34200, 12600, 45600, 45900, 33000, 9900, 64800, 54600, 75600, 31500, 67200, 61200, 113400, 28500, 96000]\n"
     ]
    },
    {
     "data": {
      "text/plain": [
       "<matplotlib.collections.PathCollection at 0x7f6eb7374d90>"
      ]
     },
     "execution_count": 42,
     "metadata": {},
     "output_type": "execute_result"
    },
    {
     "data": {
      "image/png": "[encoded data removed]",
      "text/plain": [
       "<Figure size 640x480 with 1 Axes>"
      ]
     },
     "metadata": {},
     "output_type": "display_data"
    }
   ],
   "source": [
    "y=[random.randint(0,maxrange+1) *300* x for x in x_list]\n",
    "print(x_list)\n",
    "print(y)\n",
    "plt.scatter(x_list,y)"
   ]
  },
  {
   "cell_type": "code",
   "execution_count": 43,
   "id": "ef184b5f-7970-4765-9d6f-7cf764f6511a",
   "metadata": {},
   "outputs": [],
   "source": [
    "# Managing list by index"
   ]
  },
  {
   "cell_type": "code",
   "execution_count": 44,
   "id": "6b0b8f0d-dfc1-4b6e-9d61-2ad92756d283",
   "metadata": {},
   "outputs": [
    {
     "data": {
      "text/plain": [
       "[-10,\n",
       " -9,\n",
       " -8,\n",
       " -7,\n",
       " -6,\n",
       " -5,\n",
       " -4,\n",
       " -3,\n",
       " -2,\n",
       " -1,\n",
       " 0,\n",
       " 1,\n",
       " 2,\n",
       " 3,\n",
       " 4,\n",
       " 5,\n",
       " 6,\n",
       " 7,\n",
       " 8,\n",
       " 9,\n",
       " 10,\n",
       " 11,\n",
       " 12,\n",
       " 13,\n",
       " 14,\n",
       " 15,\n",
       " 16,\n",
       " 17,\n",
       " 18,\n",
       " 19,\n",
       " 20]"
      ]
     },
     "execution_count": 44,
     "metadata": {},
     "output_type": "execute_result"
    }
   ],
   "source": [
    "x_list"
   ]
  },
  {
   "cell_type": "code",
   "execution_count": 45,
   "id": "53e26bba-bc83-4ccc-a554-84ed211de523",
   "metadata": {},
   "outputs": [
    {
     "data": {
      "text/plain": [
       "[-33000,\n",
       " -24300,\n",
       " -38400,\n",
       " -8400,\n",
       " -16200,\n",
       " -3000,\n",
       " -2400,\n",
       " -9900,\n",
       " -4200,\n",
       " -3300,\n",
       " 0,\n",
       " 4800,\n",
       " 0,\n",
       " 3600,\n",
       " 20400,\n",
       " 16500,\n",
       " 34200,\n",
       " 12600,\n",
       " 45600,\n",
       " 45900,\n",
       " 33000,\n",
       " 9900,\n",
       " 64800,\n",
       " 54600,\n",
       " 75600,\n",
       " 31500,\n",
       " 67200,\n",
       " 61200,\n",
       " 113400,\n",
       " 28500,\n",
       " 96000]"
      ]
     },
     "execution_count": 45,
     "metadata": {},
     "output_type": "execute_result"
    }
   ],
   "source": [
    "y"
   ]
  },
  {
   "cell_type": "code",
   "execution_count": 46,
   "id": "7f11483a-4160-49d6-82ac-064e79529776",
   "metadata": {},
   "outputs": [
    {
     "data": {
      "text/plain": [
       "(31, 31)"
      ]
     },
     "execution_count": 46,
     "metadata": {},
     "output_type": "execute_result"
    }
   ],
   "source": [
    "len(x_list),len(y)"
   ]
  },
  {
   "cell_type": "code",
   "execution_count": 47,
   "id": "7cb88eb0-6725-4961-9337-f28521dcb4ea",
   "metadata": {},
   "outputs": [
    {
     "name": "stdout",
     "output_type": "stream",
     "text": [
      "x\ty\n",
      "-10\t-33000\n",
      "-9\t-24300\n",
      "-8\t-38400\n",
      "-7\t-8400\n",
      "-6\t-16200\n",
      "-5\t-3000\n",
      "-4\t-2400\n",
      "-3\t-9900\n",
      "-2\t-4200\n",
      "-1\t-3300\n",
      "0\t0\n",
      "1\t4800\n",
      "2\t0\n",
      "3\t3600\n",
      "4\t20400\n",
      "5\t16500\n",
      "6\t34200\n",
      "7\t12600\n",
      "8\t45600\n",
      "9\t45900\n",
      "10\t33000\n",
      "11\t9900\n",
      "12\t64800\n",
      "13\t54600\n",
      "14\t75600\n",
      "15\t31500\n",
      "16\t67200\n",
      "17\t61200\n",
      "18\t113400\n",
      "19\t28500\n",
      "20\t96000\n"
     ]
    }
   ],
   "source": [
    "print(\"x\",\"y\", sep= \"\\t\")\n",
    "for i in range(len(x_list)):\n",
    "    print(x_list[i], y[i], sep=\"\\t\")"
   ]
  },
  {
   "cell_type": "code",
   "execution_count": 48,
   "id": "6924c3a5-7c86-41dd-9aae-de82dbd0d340",
   "metadata": {},
   "outputs": [
    {
     "name": "stdout",
     "output_type": "stream",
     "text": [
      "y\tx\ty/(x+100)\n",
      "-33000\t-10\t-366.6666666666667\n",
      "-24300\t-9\t-267.032967032967\n",
      "-38400\t-8\t-417.39130434782606\n",
      "-8400\t-7\t-90.3225806451613\n",
      "-16200\t-6\t-172.3404255319149\n",
      "-3000\t-5\t-31.57894736842105\n",
      "-2400\t-4\t-25.0\n",
      "-9900\t-3\t-102.0618556701031\n",
      "-4200\t-2\t-42.857142857142854\n",
      "-3300\t-1\t-33.333333333333336\n",
      "0\t0\t0.0\n",
      "4800\t1\t47.524752475247524\n",
      "0\t2\t0.0\n",
      "3600\t3\t34.95145631067961\n",
      "20400\t4\t196.15384615384616\n",
      "16500\t5\t157.14285714285714\n",
      "34200\t6\t322.64150943396226\n",
      "12600\t7\t117.75700934579439\n",
      "45600\t8\t422.22222222222223\n",
      "45900\t9\t421.10091743119267\n",
      "33000\t10\t300.0\n",
      "9900\t11\t89.1891891891892\n",
      "64800\t12\t578.5714285714286\n",
      "54600\t13\t483.1858407079646\n",
      "75600\t14\t663.1578947368421\n",
      "31500\t15\t273.9130434782609\n",
      "67200\t16\t579.3103448275862\n",
      "61200\t17\t523.0769230769231\n",
      "113400\t18\t961.0169491525423\n",
      "28500\t19\t239.49579831932772\n",
      "96000\t20\t800.0\n"
     ]
    }
   ],
   "source": [
    "print(\"y\",\"x\", \"y/(x+100)\", sep= \"\\t\")\n",
    "for i in range(len(x_list)):\n",
    "    print(y[i], x_list[i], y[i] / (x_list[i] +100), sep=\"\\t\")"
   ]
  },
  {
   "cell_type": "markdown",
   "id": "75092782-2c6f-4cb3-b01a-5db963d7bb4c",
   "metadata": {},
   "source": [
    "# Delete a number from list"
   ]
  },
  {
   "cell_type": "code",
   "execution_count": 50,
   "id": "72b319b1-2c38-42d5-9a40-cfba8d1ff952",
   "metadata": {},
   "outputs": [
    {
     "name": "stdout",
     "output_type": "stream",
     "text": [
      "[-10, -9, -8, -7, -6, -5, -4, -3, -2, -1, 0, 1, 2, 3, 4, 5, 6, 7, 8, 9, 10, 11, 12, 13, 14, 15, 16, 17, 18, 19, 20]\n",
      "[-33000, -24300, -38400, -8400, -16200, -3000, -2400, -9900, -4200, -3300, 0, 4800, 0, 3600, 20400, 16500, 34200, 12600, 45600, 45900, 33000, 9900, 64800, 54600, 75600, 31500, 67200, 61200, 113400, 28500, 96000]\n"
     ]
    }
   ],
   "source": [
    "print(x_list)\n",
    "print (y)"
   ]
  },
  {
   "cell_type": "code",
   "execution_count": 51,
   "id": "70359354-6780-474b-92c5-b7ba78ee8ab5",
   "metadata": {},
   "outputs": [
    {
     "name": "stdout",
     "output_type": "stream",
     "text": [
      "x\ty\n",
      "[-10, -9, -8, -7, -6, -5, -4, -3, -2, -1, 0, 1, 2, 3, 4, 5, 6, 7, 8, 9, 10, 11, 12, 13, 14, 15, 16, 17, 18, 19]\n",
      "[-33000, -24300, -38400, -8400, -16200, -3000, -2400, -9900, -4200, -3300, 0, 4800, 0, 3600, 20400, 16500, 34200, 12600, 45600, 45900, 33000, 9900, 64800, 54600, 75600, 31500, 67200, 61200, 113400, 28500]\n"
     ]
    }
   ],
   "source": [
    "print(\"x\",\"y\", sep= \"\\t\")\n",
    "interval = 2\n",
    "del x_list[i]\n",
    "del y[i]\n",
    "print(x_list)\n",
    "print(y)"
   ]
  },
  {
   "cell_type": "code",
   "execution_count": 52,
   "id": "b606c84f-d58a-423a-8306-9f2f34ddabc0",
   "metadata": {},
   "outputs": [
    {
     "name": "stdout",
     "output_type": "stream",
     "text": [
      "x\ty\n",
      "[-10, -9, -8, -7, -6, -5, -4, -3, -2, -1, 0, 1, 2, 3, 4, 5, 6, 7, 8, 9, 10, 11, 12, 13, 14, 15, 16, 17, 18]\n",
      "[-33000, -24300, -38400, -8400, -16200, -3000, -2400, -9900, -4200, -3300, 0, 4800, 0, 3600, 20400, 16500, 34200, 12600, 45600, 45900, 33000, 9900, 64800, 54600, 75600, 31500, 67200, 61200, 113400]\n"
     ]
    }
   ],
   "source": [
    "# delete last element\n",
    "print(\"x\",\"y\", sep= \"\\t\")\n",
    "interval = 2\n",
    "del x_list[-1]\n",
    "del y[-1]\n",
    "print(x_list)\n",
    "print(y)"
   ]
  },
  {
   "cell_type": "code",
   "execution_count": 53,
   "id": "fce28ffb-c541-4213-bb4d-852943eb9afa",
   "metadata": {},
   "outputs": [
    {
     "name": "stdout",
     "output_type": "stream",
     "text": [
      "x\ty\n",
      "[-9, -8, -7, -6, -5, -4, -3, -2, -1, 0, 1, 2, 3, 4, 5, 6, 7, 8, 9, 10, 11, 12, 13, 14, 15, 16, 17, 18]\n",
      "[-24300, -38400, -8400, -16200, -3000, -2400, -9900, -4200, -3300, 0, 4800, 0, 3600, 20400, 16500, 34200, 12600, 45600, 45900, 33000, 9900, 64800, 54600, 75600, 31500, 67200, 61200, 113400]\n"
     ]
    }
   ],
   "source": [
    "# delete 1st element\n",
    "print(\"x\",\"y\", sep= \"\\t\")\n",
    "interval = 2\n",
    "del x_list[0]\n",
    "del y[0]\n",
    "print(x_list)\n",
    "print(y)"
   ]
  },
  {
   "cell_type": "code",
   "execution_count": 54,
   "id": "1005a773-91ea-4567-ab76-7387779dd04c",
   "metadata": {},
   "outputs": [
    {
     "data": {
      "text/plain": [
       "'a'"
      ]
     },
     "execution_count": 54,
     "metadata": {},
     "output_type": "execute_result"
    }
   ],
   "source": [
    "m=\"a\"\n",
    "m"
   ]
  },
  {
   "cell_type": "markdown",
   "id": "f1ae5c19-ecc9-4d86-ba3b-458f25470510",
   "metadata": {},
   "source": [
    "# Sorting"
   ]
  },
  {
   "cell_type": "code",
   "execution_count": 97,
   "id": "8b1574e7-f618-4c01-8eec-18bc1c759cb7",
   "metadata": {},
   "outputs": [
    {
     "name": "stdout",
     "output_type": "stream",
     "text": [
      "[9, 6, 1, 1, 10, 4, 9, 10, 1, 8, 2, 7, 4, 0, 9, 10, 7, 4, 6, 4, 6, 4, 1, 8, 8, 7, 8, 0, 7, 3, 5, 9, 2, 6, 7, 10, 6, 1, 3, 5, 4, 6, 4, 7, 6, 3, 6, 4, 2, 5, 7, 7, 8, 10, 5, 10, 5, 5, 5, 5, 3, 9, 8, 2, 10, 6, 8, 8, 8, 9, 5, 9, 10, 10, 7, 2, 1, 0, 10, 10, 2, 8, 9, 0, 3, 7, 2, 8, 10, 4, 9, 1, 6, 8, 6, 2, 3, 2, 0, 8]\n"
     ]
    }
   ],
   "source": [
    "x=[random.randint(0,10) for i in range(100)]\n",
    "print (x)"
   ]
  },
  {
   "cell_type": "code",
   "execution_count": 107,
   "id": "e06e4781-0b16-4c3e-ae6e-09bf53cc7b40",
   "metadata": {},
   "outputs": [
    {
     "name": "stdout",
     "output_type": "stream",
     "text": [
      "[0, 0, 0, 0, 0, 1, 1, 1, 1, 1, 1, 1, 2, 2, 2, 2, 2, 2, 2, 2, 2, 3, 3, 3, 3, 3, 3, 4, 4, 4, 4, 4, 4, 4, 4, 4, 5, 5, 5, 5, 5, 5, 5, 5, 5, 6, 6, 6, 6, 6, 6, 6, 6, 6, 6, 6, 7, 7, 7, 7, 7, 7, 7, 7, 7, 7, 8, 8, 8, 8, 8, 8, 8, 8, 8, 8, 8, 8, 8, 9, 9, 9, 9, 9, 9, 9, 9, 9, 10, 10, 10, 10, 10, 10, 10, 10, 10, 10, 10, 10]\n"
     ]
    }
   ],
   "source": [
    "# Assending sorting- small to large\n",
    "print(sorted(x))"
   ]
  },
  {
   "cell_type": "code",
   "execution_count": 109,
   "id": "72d2a7ad-e8a0-41d9-b67a-596216806332",
   "metadata": {},
   "outputs": [
    {
     "name": "stdout",
     "output_type": "stream",
     "text": [
      "[10, 10, 10, 10, 10, 10, 10, 10, 10, 10, 10, 10, 9, 9, 9, 9, 9, 9, 9, 9, 9, 8, 8, 8, 8, 8, 8, 8, 8, 8, 8, 8, 8, 8, 7, 7, 7, 7, 7, 7, 7, 7, 7, 7, 6, 6, 6, 6, 6, 6, 6, 6, 6, 6, 6, 5, 5, 5, 5, 5, 5, 5, 5, 5, 4, 4, 4, 4, 4, 4, 4, 4, 4, 3, 3, 3, 3, 3, 3, 2, 2, 2, 2, 2, 2, 2, 2, 2, 1, 1, 1, 1, 1, 1, 1, 0, 0, 0, 0, 0]\n"
     ]
    }
   ],
   "source": [
    "# descending sorting big to small\n",
    "print(sorted(x, reverse= True))"
   ]
  },
  {
   "cell_type": "code",
   "execution_count": 111,
   "id": "59bc3cc9-4251-42d3-a0ed-567f8aa23e27",
   "metadata": {},
   "outputs": [
    {
     "name": "stdout",
     "output_type": "stream",
     "text": [
      "[10, 10, 10, 10, 10, 10, 10, 10, 10, 10, 10, 10, 9, 9, 9, 9, 9, 9, 9, 9, 9, 8, 8, 8, 8, 8, 8, 8, 8, 8, 8, 8, 8, 8, 7, 7, 7, 7, 7, 7, 7, 7, 7, 7, 6, 6, 6, 6, 6, 6, 6, 6, 6, 6, 6, 5, 5, 5, 5, 5, 5, 5, 5, 5, 4, 4, 4, 4, 4, 4, 4, 4, 4, 3, 3, 3, 3, 3, 3, 2, 2, 2, 2, 2, 2, 2, 2, 2, 1, 1, 1, 1, 1, 1, 1, 0, 0, 0, 0, 0]\n"
     ]
    }
   ],
   "source": [
    "# another way to sort\n",
    "print(sorted(x)[-1::-1])"
   ]
  },
  {
   "cell_type": "code",
   "execution_count": 113,
   "id": "c5320b4b-ef81-4d16-8084-a9c4cfe16459",
   "metadata": {},
   "outputs": [
    {
     "data": {
      "text/plain": [
       "['a', 'b', 'c', 'g', 'h', 'i', 'k', 'l', 'm', 'r', 't']"
      ]
     },
     "execution_count": 113,
     "metadata": {},
     "output_type": "execute_result"
    }
   ],
   "source": [
    "sorted(\"cbaklmghrit\")"
   ]
  },
  {
   "cell_type": "code",
   "execution_count": 115,
   "id": "5e8b9236-a927-441e-80bb-14f4caa3f50e",
   "metadata": {},
   "outputs": [
    {
     "name": "stdout",
     "output_type": "stream",
     "text": [
      "['t', 'r', 'm', 'l', 'k', 'i', 'h', 'g', 'c', 'b', 'a']\n"
     ]
    }
   ],
   "source": [
    "print(sorted(\"cbaklmghrit\", reverse =True))"
   ]
  },
  {
   "cell_type": "markdown",
   "id": "9340e781-5dcf-4a1d-add1-7e1f09e8ece1",
   "metadata": {},
   "source": [
    "### note"
   ]
  },
  {
   "cell_type": "code",
   "execution_count": 123,
   "id": "c057b9e5-466b-431b-8d0e-fd1ccf644e77",
   "metadata": {},
   "outputs": [
    {
     "name": "stdout",
     "output_type": "stream",
     "text": [
      "['1', '11', '15', '2', '22', '3', '32', '45']\n"
     ]
    }
   ],
   "source": [
    "# string sorting does it alphabetically.. all eements of 1 then all elemets of 2 then 3 and 4....\n",
    "print(sorted([\"1\", \"2\", \"3\", \"11\", \"15\", \"45\", \"32\", \"22\"]))"
   ]
  },
  {
   "cell_type": "code",
   "execution_count": 121,
   "id": "9b60cb27-5559-43fc-b252-e8950650ebb2",
   "metadata": {},
   "outputs": [
    {
     "name": "stdout",
     "output_type": "stream",
     "text": [
      "[1, 2, 3, 11, 22, 32, 45, 151]\n"
     ]
    }
   ],
   "source": [
    "print(sorted([1,2,3,11,151,45,32,22]))"
   ]
  },
  {
   "cell_type": "markdown",
   "id": "46f31dd0-a252-433b-bb0a-a21dc8de6656",
   "metadata": {},
   "source": [
    "# slicing List"
   ]
  },
  {
   "cell_type": "code",
   "execution_count": 127,
   "id": "03f96399-812b-4e89-8026-30f8ff367284",
   "metadata": {},
   "outputs": [
    {
     "name": "stdout",
     "output_type": "stream",
     "text": [
      "[9, 6, 1, 1, 10, 4, 9, 10, 1, 8, 2, 7, 4, 0, 9, 10, 7, 4, 6, 4, 6, 4, 1, 8, 8, 7, 8, 0, 7, 3, 5, 9, 2, 6, 7, 10, 6, 1, 3, 5, 4, 6, 4, 7, 6, 3, 6, 4, 2, 5, 7, 7, 8, 10, 5, 10, 5, 5, 5, 5, 3, 9, 8, 2, 10, 6, 8, 8, 8, 9, 5, 9, 10, 10, 7, 2, 1, 0, 10, 10, 2, 8, 9, 0, 3, 7, 2, 8, 10, 4, 9, 1, 6, 8, 6, 2, 3, 2, 0, 8]\n"
     ]
    }
   ],
   "source": [
    "print(x)"
   ]
  },
  {
   "cell_type": "code",
   "execution_count": 129,
   "id": "73990192-c064-49eb-be84-edee62772e6e",
   "metadata": {},
   "outputs": [
    {
     "name": "stdout",
     "output_type": "stream",
     "text": [
      "[9, 1, 10, 9, 1, 2, 4, 9, 7, 6, 6, 1, 8, 8, 7, 5, 2, 7, 6, 3, 4, 4, 6, 6, 2, 7, 8, 5, 5, 5, 3, 8, 10, 8, 8, 5, 10, 7, 1, 10, 2, 9, 3, 2, 10, 9, 6, 6, 3, 0]\n"
     ]
    }
   ],
   "source": [
    "# format for slicing\n",
    "# x[min:max+1:interval]\n",
    "print(x[::2])"
   ]
  },
  {
   "cell_type": "code",
   "execution_count": 131,
   "id": "5aaf77af-c3c2-42d7-b64a-c3d64d71fef9",
   "metadata": {},
   "outputs": [
    {
     "name": "stdout",
     "output_type": "stream",
     "text": [
      "[6, 1, 4, 10, 8, 7, 0, 10, 4, 4, 4, 8, 7, 0, 3, 9, 6, 10, 1, 5, 6, 7, 3, 4, 5, 7, 10, 10, 5, 5, 9, 2, 6, 8, 9, 9, 10, 2, 0, 10, 8, 0, 7, 8, 4, 1, 8, 2, 2, 8]\n"
     ]
    }
   ],
   "source": [
    "print(x[1::2])"
   ]
  },
  {
   "cell_type": "code",
   "execution_count": 137,
   "id": "5f107bb9-26f9-4062-aacd-7ff18d1a789e",
   "metadata": {},
   "outputs": [
    {
     "name": "stdout",
     "output_type": "stream",
     "text": [
      "[9, 6, 1, 1, 10, 4, 9, 10, 1, 8]\n"
     ]
    }
   ],
   "source": [
    "# only print first 10 values\n",
    "print(x[:10])"
   ]
  },
  {
   "cell_type": "code",
   "execution_count": 139,
   "id": "c5f58741-a697-45fe-b2a6-45cb94caee64",
   "metadata": {},
   "outputs": [
    {
     "name": "stdout",
     "output_type": "stream",
     "text": [
      "[9, 1, 6, 8, 6, 2, 3, 2, 0, 8]\n"
     ]
    }
   ],
   "source": [
    "# only print last 10 values\n",
    "print(x[-10:])"
   ]
  },
  {
   "cell_type": "markdown",
   "id": "6759827f-a88e-4641-9052-2c9e6c0e6365",
   "metadata": {},
   "source": [
    "# cut lsit in half"
   ]
  },
  {
   "cell_type": "code",
   "execution_count": 147,
   "id": "a0f19136-fd8d-41f7-ba92-0addd3373918",
   "metadata": {},
   "outputs": [
    {
     "name": "stdout",
     "output_type": "stream",
     "text": [
      "[9, 6, 1, 1, 10, 4, 9, 10, 1, 8, 2, 7, 4, 0, 9, 10, 7, 4, 6, 4, 6, 4, 1, 8, 8, 7, 8, 0, 7, 3, 5, 9, 2, 6, 7, 10, 6, 1, 3, 5, 4, 6, 4, 7, 6, 3, 6, 4, 2, 5]\n"
     ]
    }
   ],
   "source": [
    "mid_x= int(len(x)/2)\n",
    "print(x[:mid_x])"
   ]
  },
  {
   "cell_type": "code",
   "execution_count": 149,
   "id": "7566ff98-a193-46d5-a8fc-93b7c28e0d8a",
   "metadata": {},
   "outputs": [
    {
     "name": "stdout",
     "output_type": "stream",
     "text": [
      "[7, 7, 8, 10, 5, 10, 5, 5, 5, 5, 3, 9, 8, 2, 10, 6, 8, 8, 8, 9, 5, 9, 10, 10, 7, 2, 1, 0, 10, 10, 2, 8, 9, 0, 3, 7, 2, 8, 10, 4, 9, 1, 6, 8, 6, 2, 3, 2, 0, 8]\n"
     ]
    }
   ],
   "source": [
    "print(x[mid_x:])"
   ]
  },
  {
   "cell_type": "markdown",
   "id": "7ce551ab-cd18-4adc-ae79-d2abf3e51283",
   "metadata": {},
   "source": [
    "## Nested for loop"
   ]
  },
  {
   "cell_type": "code",
   "execution_count": 157,
   "id": "f4a67eaa-15b0-4224-903d-115022b9ea34",
   "metadata": {},
   "outputs": [
    {
     "name": "stdout",
     "output_type": "stream",
     "text": [
      "0\n",
      "1\n",
      "2\n",
      "3\n",
      "4\n",
      "5\n",
      "6\n",
      "7\n",
      "8\n",
      "9\n"
     ]
    }
   ],
   "source": [
    "# single for loop\n",
    "for i in range(10):\n",
    "    print(i)"
   ]
  },
  {
   "cell_type": "code",
   "execution_count": 175,
   "id": "46728cf1-9a18-4786-9df0-df7480c7eb92",
   "metadata": {},
   "outputs": [
    {
     "name": "stdout",
     "output_type": "stream",
     "text": [
      "i j i+j\n",
      "0 0 0\n",
      "0 1 1\n",
      "0 2 2\n",
      "0 3 3\n",
      "0 4 4\n",
      "1 0 1\n",
      "1 1 2\n",
      "1 2 3\n",
      "1 3 4\n",
      "1 4 5\n",
      "2 0 2\n",
      "2 1 3\n",
      "2 2 4\n",
      "2 3 5\n",
      "2 4 6\n",
      "3 0 3\n",
      "3 1 4\n",
      "3 2 5\n",
      "3 3 6\n",
      "3 4 7\n",
      "4 0 4\n",
      "4 1 5\n",
      "4 2 6\n",
      "4 3 7\n",
      "4 4 8\n"
     ]
    }
   ],
   "source": [
    "## 2 for loops (nested)\n",
    "print (\"i\", \"j\", \"i+j\")\n",
    "for i in range(5):\n",
    "    for j in range(5):\n",
    "        print(i, j, i+j)"
   ]
  },
  {
   "cell_type": "code",
   "execution_count": 177,
   "id": "e5d02240-1f95-4239-8bf1-090408a1960b",
   "metadata": {},
   "outputs": [
    {
     "data": {
      "text/plain": [
       "[-9,\n",
       " -8,\n",
       " -7,\n",
       " -6,\n",
       " -5,\n",
       " -4,\n",
       " -3,\n",
       " -2,\n",
       " -1,\n",
       " 0,\n",
       " 1,\n",
       " 2,\n",
       " 3,\n",
       " 4,\n",
       " 5,\n",
       " 6,\n",
       " 7,\n",
       " 8,\n",
       " 9,\n",
       " 10,\n",
       " 11,\n",
       " 12,\n",
       " 13,\n",
       " 14,\n",
       " 15,\n",
       " 16,\n",
       " 17,\n",
       " 18]"
      ]
     },
     "execution_count": 177,
     "metadata": {},
     "output_type": "execute_result"
    }
   ],
   "source": [
    "x_slice =x[:3]\n",
    "x_list"
   ]
  },
  {
   "cell_type": "code",
   "execution_count": 179,
   "id": "190698ca-fc15-4f47-9bd5-9e481d2dfbe5",
   "metadata": {},
   "outputs": [
    {
     "data": {
      "text/plain": [
       "[-9,\n",
       " -8,\n",
       " -7,\n",
       " -6,\n",
       " -5,\n",
       " -4,\n",
       " -3,\n",
       " -2,\n",
       " -1,\n",
       " 0,\n",
       " 1,\n",
       " 2,\n",
       " 3,\n",
       " 4,\n",
       " 5,\n",
       " 6,\n",
       " 7,\n",
       " 8,\n",
       " 9,\n",
       " 10,\n",
       " 11,\n",
       " 12,\n",
       " 13,\n",
       " 14,\n",
       " 15,\n",
       " 16,\n",
       " 17,\n",
       " 18]"
      ]
     },
     "execution_count": 179,
     "metadata": {},
     "output_type": "execute_result"
    }
   ],
   "source": [
    "x_slice.append(4)\n",
    "x_list"
   ]
  },
  {
   "cell_type": "code",
   "execution_count": 183,
   "id": "e48c1bf6-71fd-4f8f-b44b-7f365fc148e3",
   "metadata": {},
   "outputs": [
    {
     "data": {
      "text/plain": [
       "[9, 6]"
      ]
     },
     "execution_count": 183,
     "metadata": {},
     "output_type": "execute_result"
    }
   ],
   "source": [
    "last_xslice =x_slice.pop()\n",
    "x_slice"
   ]
  },
  {
   "cell_type": "code",
   "execution_count": 187,
   "id": "8e8a9c94-6ab4-43b9-9d30-fefe8c6f65e0",
   "metadata": {},
   "outputs": [
    {
     "data": {
      "text/plain": [
       "1"
      ]
     },
     "execution_count": 187,
     "metadata": {},
     "output_type": "execute_result"
    }
   ],
   "source": [
    "last_xslice"
   ]
  },
  {
   "cell_type": "code",
   "execution_count": null,
   "id": "951d0629-cda8-4011-990e-d7fc8d8c80e3",
   "metadata": {},
   "outputs": [],
   "source": []
  }
 ],
 "metadata": {
  "kernelspec": {
   "display_name": "anaconda-panel-2023.05-py310",
   "language": "python",
   "name": "conda-env-anaconda-panel-2023.05-py310-py"
  },
  "language_info": {
   "codemirror_mode": {
    "name": "ipython",
    "version": 3
   },
   "file_extension": ".py",
   "mimetype": "text/x-python",
   "name": "python",
   "nbconvert_exporter": "python",
   "pygments_lexer": "ipython3",
   "version": "3.11.5"
  }
 },
 "nbformat": 4,
 "nbformat_minor": 5
}
