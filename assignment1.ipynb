{
 "cells": [
  {
   "cell_type": "markdown",
   "id": "4c76d682-566c-41f9-a9ed-82ba3d3adc67",
   "metadata": {},
   "source": [
    "# Assignment 1\n",
    "\n",
    "### Exercises"
   ]
  },
  {
   "cell_type": "code",
   "execution_count": 2,
   "id": "08c45a84-dba6-48f6-b52f-b985d57462c4",
   "metadata": {},
   "outputs": [
    {
     "name": "stdout",
     "output_type": "stream",
     "text": [
      "[0, 3, 6, 9, 12, 15, 18, 21, 24, 27, 30, 33, 36, 39, 42, 45, 48, 51, 54, 57, 60, 63, 66, 69, 72, 75, 78, 81, 84, 87, 90, 93, 96, 99, 102, 105, 108, 111, 114, 117, 120, 123, 126, 129, 132, 135, 138, 141, 144, 147, 150, 153, 156, 159, 162, 165, 168, 171, 174, 177, 180, 183, 186, 189, 192, 195, 198, 201, 204, 207, 210, 213, 216, 219, 222, 225, 228, 231, 234, 237, 240, 243, 246, 249, 252, 255, 258, 261, 264, 267, 270, 273, 276, 279, 282, 285, 288, 291, 294, 297]\n"
     ]
    }
   ],
   "source": [
    "# 1. Create a list of numbers 100 elements in length that counts by 3s - i.e., [3,6,9,12,...]\n",
    "# method 1:\n",
    "len_x = 100\n",
    "interval = 3\n",
    "list = [i for i in range(0, len_x * interval, interval)]\n",
    "print(list)"
   ]
  },
  {
   "cell_type": "code",
   "execution_count": 3,
   "id": "5e167399-cb40-42bb-9c99-318947720dce",
   "metadata": {},
   "outputs": [
    {
     "name": "stdout",
     "output_type": "stream",
     "text": [
      "0\n",
      "3\n",
      "6\n",
      "9\n",
      "12\n",
      "15\n",
      "18\n",
      "21\n",
      "24\n",
      "27\n",
      "30\n",
      "33\n",
      "36\n",
      "39\n",
      "42\n",
      "45\n",
      "48\n",
      "51\n",
      "54\n",
      "57\n",
      "60\n",
      "63\n",
      "66\n",
      "69\n",
      "72\n",
      "75\n",
      "78\n",
      "81\n",
      "84\n",
      "87\n",
      "90\n",
      "93\n",
      "96\n",
      "99\n",
      "102\n",
      "105\n",
      "108\n",
      "111\n",
      "114\n",
      "117\n",
      "120\n",
      "123\n",
      "126\n",
      "129\n",
      "132\n",
      "135\n",
      "138\n",
      "141\n",
      "144\n",
      "147\n",
      "150\n",
      "153\n",
      "156\n",
      "159\n",
      "162\n",
      "165\n",
      "168\n",
      "171\n",
      "174\n",
      "177\n",
      "180\n",
      "183\n",
      "186\n",
      "189\n",
      "192\n",
      "195\n",
      "198\n",
      "201\n",
      "204\n",
      "207\n",
      "210\n",
      "213\n",
      "216\n",
      "219\n",
      "222\n",
      "225\n",
      "228\n",
      "231\n",
      "234\n",
      "237\n",
      "240\n",
      "243\n",
      "246\n",
      "249\n",
      "252\n",
      "255\n",
      "258\n",
      "261\n",
      "264\n",
      "267\n",
      "270\n",
      "273\n",
      "276\n",
      "279\n",
      "282\n",
      "285\n",
      "288\n",
      "291\n",
      "294\n",
      "297\n"
     ]
    }
   ],
   "source": [
    "# 1. Create a list of numbers 100 elements in length that counts by 3s - i.e., [3,6,9,12,...]\n",
    "# method 2:\n",
    "len_x = 100\n",
    "interval = 3\n",
    "for i in range(0, len_x * interval, interval):\n",
    "    print(i)"
   ]
  },
  {
   "cell_type": "code",
   "execution_count": 4,
   "id": "095de804-5480-4778-b570-d80c6f455ab1",
   "metadata": {},
   "outputs": [
    {
     "name": "stdout",
     "output_type": "stream",
     "text": [
      "['0', '3', '6', '9', '12', '15', '18', '21', '24', '27', '30', '33', '36', '39', '42', '45', '48', '51', '54', '57', '60', '63', '66', '69', '72', '75', '78', '81', '84', '87', '90', '93', '96', '99', '102', '105', '108', '111', '114', '117', '120', '123', '126', '129', '132', '135', '138', '141', '144', '147', '150', '153', '156', '159', '162', '165', '168', '171', '174', '177', '180', '183', '186', '189', '192', '195', '198', '201', '204', '207', '210', '213', '216', '219', '222', '225', '228', '231', '234', '237', '240', '243', '246', '249', '252', '255', '258', '261', '264', '267', '270', '273', '276', '279', '282', '285', '288', '291', '294', '297']\n"
     ]
    }
   ],
   "source": [
    "# 2. Using the list from question 1, create a second list whose elements are the same values converted to strings. hint: use a for loop and the function str().\n",
    "len_x = 100\n",
    "interval = 3\n",
    "list = [i for i in range(0, len_x * interval, interval)]\n",
    "new_list = [str(number) for number in list]\n",
    "print (new_list)"
   ]
  },
  {
   "cell_type": "code",
   "execution_count": 5,
   "id": "2412a296-8b7a-45e4-94b6-87359b4ca7eb",
   "metadata": {},
   "outputs": [
    {
     "name": "stdout",
     "output_type": "stream",
     "text": [
      "0369121518212427303336394245485154576063666972757881848790939699102105108111114117120123126129132135138141144147150153156159162165168171174177180183186189192195198201204207210213216219222225228231234237240243246249252255258261264267270273276279282285288291294297\n"
     ]
    }
   ],
   "source": [
    "# 3.  Using the list from question 2, create a variable that concatenates each of the elements in order of index (Hint: result should be like \"36912...\").\n",
    "len_x = 100\n",
    "interval = 3\n",
    "list = [i for i in range(0, len_x * interval, interval)]\n",
    "third_list= ''.join(str(number) for number in new_list)\n",
    "print (third_list)"
   ]
  },
  {
   "cell_type": "code",
   "execution_count": 11,
   "id": "1ff7c204-880a-4bbf-bcc6-1cc4de70f20f",
   "metadata": {},
   "outputs": [
    {
     "name": "stdout",
     "output_type": "stream",
     "text": [
      "[297, 294, 291, 288, 285, 282, 279, 276, 273, 270, 267, 264, 261, 258, 255, 252, 249, 246, 243, 240, 237, 234, 231, 228, 225, 222, 219, 216, 213, 210, 207, 204, 201, 198, 195, 192, 189, 186, 183, 180, 177, 174, 171, 168, 165, 162, 159, 156, 153, 150, 147, 144, 141, 138, 135, 132, 129, 126, 123, 120, 117, 114, 111, 108, 105, 102, 99, 96, 93, 90, 87, 84, 81, 78, 75, 72, 69, 66, 63, 60, 57, 54, 51, 48, 45, 42, 39, 36, 33, 30, 27, 24, 21, 18, 15, 12, 9, 6, 3, 0]\n"
     ]
    }
   ],
   "source": [
    "# 4. Using .pop() and .append(), create a list whose values are the same as the list from question 1 but in reverse order. \n",
    "#(Hint: .pop() removes the last element from a list. The value can be save, i.e., x = lst.pop().)\n",
    "len_x = 100\n",
    "interval = 3\n",
    "list = [i for i in range(0, len_x * interval, interval)]\n",
    "reversed_list = []\n",
    "for _ in range(len(list)):\n",
    "    reversed_list.append(list.pop())\n",
    "print (reversed_list)"
   ]
  },
  {
   "cell_type": "code",
   "execution_count": 23,
   "id": "2b371a00-6434-42ab-bbc9-0a1cb6cb088c",
   "metadata": {},
   "outputs": [
    {
     "name": "stdout",
     "output_type": "stream",
     "text": [
      "50\n",
      "[150, 153, 156, 159, 162, 165, 168, 171, 174, 177, 180, 183, 186, 189, 192, 195, 198, 201, 204, 207, 210, 213, 216, 219, 222, 225, 228, 231, 234, 237, 240, 243, 246, 249, 252, 255, 258, 261, 264, 267, 270, 273, 276, 279, 282, 285, 288, 291, 294, 297]\n"
     ]
    }
   ],
   "source": [
    "# 5. Using len(), calculate the midpoint of the list from question 1. Pass this midpoint to slice the list so that the resultant copy includes only the second half of the list from question 1.\n",
    "len_x = 100\n",
    "interval = 3\n",
    "list = [i for i in range(0, len_x * interval, interval)]\n",
    "mid_point = len(list) // 2\n",
    "second_half = list[mid_point:]\n",
    "print(mid_point, second_half, sep =\"\\n\")"
   ]
  },
  {
   "cell_type": "code",
   "execution_count": 29,
   "id": "4b5913a1-ff05-43b3-a82a-2878693f9428",
   "metadata": {},
   "outputs": [
    {
     "name": "stdout",
     "output_type": "stream",
     "text": [
      "0369121518212427303336394245485154576063666972757881848790939699102105108111114117120123126129132135138141144147150153156159162165168171174177180183186189192195198201204207210213216219222225228231234237240243246249252255258261264267270273276279282285288291294297\n"
     ]
    }
   ],
   "source": [
    "# 6. Create a string that includes only every other element, starting from the 0th element, from the string in question 3 while maintaining the order of these elements (Hint: this can be done be using a for loop whose values are descending).\n",
    "len_x = 100\n",
    "interval = 3\n",
    "list = [i for i in range(0, len_x * interval, interval)]\n",
    "third_list= ''.join(str(number) for number in new_list)\n",
    "third_list = ''.join(str(number) for number in new_list)\n",
    "every_other_element_string = ''.join(third_list [i] for i in range(0, len(third_list), 2))\n",
    "print(third_list)"
   ]
  },
  {
   "cell_type": "code",
   "execution_count": 9,
   "id": "4d71ef60-9766-42a6-82fe-bef5814dc070",
   "metadata": {},
   "outputs": [
    {
     "name": "stdout",
     "output_type": "stream",
     "text": [
      "Original list  [1, 2, 4, 4, 3, 3, 3, 6, 5]\n",
      "Example to show mutability  [1, 2, 4, 77, 3, 3, 3, 6, 5]\n",
      "[2, 3]\n",
      "(6, 7, 8)\n"
     ]
    }
   ],
   "source": [
    "# 7. Explain the difference between a dynamic list in Python (usually referred to as a list) and a tuple.\n",
    "\n",
    "#Lists: \n",
    "#    1. Mutable\n",
    "#    2. The implication of iterations is Time-consuming\n",
    "#    3. The list is better for performing operations, such as insertion and deletion.\n",
    "#    4. Lists consume more memory\n",
    "#   5. Lists have several built-in methods\n",
    "#    6. Unexpected changes and errors are more likely to occur\n",
    "\n",
    "\n",
    "# Example 1: \n",
    "my_list = [1, 2, 4, 4, 3, 3, 3, 6, 5]\n",
    "print(\"Original list \", my_list)\n",
    " \n",
    "List[3] = 77\n",
    "print(\"Example to show mutability \", List)\n",
    "    \n",
    "#Tuple:\n",
    "#    1. non- mutable\n",
    "#    2. The implication of iterations is comparatively Faster\n",
    "#    3. A Tuple data type is appropriate for accessing the elements\n",
    "#    4. Tuple consumes less memory as compared to the list\n",
    "#    5. Tuple does not have many built-in methods.\n",
    "#   6. In a tuple, it is hard to take place.\n",
    "    \n",
    "# Example 2:  tuples are immutable\n",
    "# tuple = (0, 1, 2, 3)\n",
    "# tuple[0] = 4\n",
    "# print(tuple)\n",
    "        \n",
    "    \n",
    "my_list = [1, 2, 3, 4, 5]\n",
    "my_tuple = (6, 7, 8, 9, 10)\n",
    " \n",
    "print(my_list[1:3]) # Output: [2, 3]\n",
    "print(my_tuple[:3]) # Output: (6, 7, 8)\n",
    "\n",
    "# Source: https://www.geeksforgeeks.org/python-difference-between-list-and-tuple/ "
   ]
  },
  {
   "cell_type": "markdown",
   "id": "2d8be404-6db5-43b4-8100-8faf358b83a7",
   "metadata": {},
   "source": [
    "# Exploration"
   ]
  },
  {
   "cell_type": "code",
   "execution_count": 17,
   "id": "3cae7578-1750-4e67-a55a-49ecc3a10545",
   "metadata": {},
   "outputs": [
    {
     "name": "stdout",
     "output_type": "stream",
     "text": [
      "[2, 3, 5, 7, 11, 13, 17, 19, 23, 29, 31, 37, 41, 43, 47, 53, 59, 61, 67, 71, 73, 79, 83, 89, 97, 101, 103, 107, 109, 113, 127, 131, 137, 139, 149, 151, 157, 163, 167, 173, 179, 181, 191, 193, 197, 199, 211, 223, 227, 229, 233, 239, 241, 251, 257, 263, 269, 271, 277, 281, 283, 293, 307, 311, 313, 317, 331, 337, 347, 349, 353, 359, 367, 373, 379, 383, 389, 397, 401, 409, 419, 421, 431, 433, 439, 443, 449, 457, 461, 463, 467, 479, 487, 491, 499, 503, 509, 521, 523, 541]\n"
     ]
    }
   ],
   "source": [
    "# 1. Use a generator to create a list of the first 100 prime numbers. Include a paragraph explaining how a generator works.\n",
    "def is_prime(num):\n",
    "    if num < 2:\n",
    "        return False\n",
    "    for i in range(2, int(num**0.5) + 1):\n",
    "        if num % i == 0:\n",
    "            return False\n",
    "    return True\n",
    "\n",
    "def generate_primes():\n",
    "    count = 0\n",
    "    num = 2\n",
    "    while count < 100:\n",
    "        if is_prime(num):\n",
    "            yield num\n",
    "            count += 1\n",
    "        num += 1\n",
    "\n",
    "primes = list(generate_primes())\n",
    "print(primes)\n"
   ]
  },
  {
   "cell_type": "code",
   "execution_count": 29,
   "id": "13e7f791-dfd3-45ca-b767-c6116e8bbe74",
   "metadata": {},
   "outputs": [
    {
     "name": "stdout",
     "output_type": "stream",
     "text": [
      "[541, 523, 521, 509, 503, 499, 491, 487, 479, 467, 463, 461, 457, 449, 443, 439, 433, 431, 421, 419, 409, 401, 397, 389, 383, 379, 373, 367, 359, 353, 349, 347, 337, 331, 317, 313, 311, 307, 293, 283, 281, 277, 271, 269, 263, 257, 251, 241, 239, 233, 229, 227, 223, 211, 199, 197, 193, 191, 181, 179, 173, 167, 163, 157, 151, 149, 139, 137, 131, 127, 113, 109, 107, 103, 101, 97, 89, 83, 79, 73, 71, 67, 61, 59, 53, 47, 43, 41, 37, 31, 29, 23, 19, 17, 13, 11, 7, 5, 3, 2]\n"
     ]
    }
   ],
   "source": [
    "# 2. Using a for loop and the pop function, create a list of the values from the list of prime numbers whose values are descending from highest to lowest.\n",
    "def is_prime(num):\n",
    "    if num < 2:\n",
    "        return False\n",
    "    for i in range(2, int(num**0.5) + 1):\n",
    "        if num % i == 0:\n",
    "            return False\n",
    "    return True\n",
    "\n",
    "def generate_primes():\n",
    "    count = 0\n",
    "    num = 2\n",
    "    while count < 100:\n",
    "        if is_prime(num):\n",
    "            yield num\n",
    "            count += 1\n",
    "        num += 1\n",
    "\n",
    "primes = list(generate_primes())\n",
    "#print(primes)\n",
    "\n",
    "desc_primes = []\n",
    "for _ in range(len(primes)):\n",
    "    desc_primes.append(primes.pop())\n",
    "print(desc_primes)\n"
   ]
  },
  {
   "cell_type": "code",
   "execution_count": 35,
   "id": "8545c34c-d90f-4c08-893b-26df64fb2c64",
   "metadata": {},
   "outputs": [
    {
     "name": "stdout",
     "output_type": "stream",
     "text": [
      "[107, 199, 11, 331, 41, 179, 541, 463, 61, 521, 197, 419, 191, 157, 509, 7, 71, 523, 109, 439, 433, 23, 47, 479, 167, 353, 457, 257, 359, 211, 283, 173, 503, 349, 131, 163, 223, 43, 499, 337, 251, 241, 421, 271, 103, 127, 151, 367, 2, 3, 263, 37, 313, 139, 181, 83, 137, 113, 449, 67, 53, 461, 443, 59, 97, 227, 431, 17, 379, 229, 373, 5, 347, 487, 29, 79, 277, 31, 101, 73, 293, 317, 383, 397, 89, 193, 239, 13, 311, 401, 233, 19, 269, 149, 409, 389, 281, 467, 307, 491]\n"
     ]
    }
   ],
   "source": [
    "# 3. Using either of prime numbers, create another list that includes the same numbers but is randomly ordered. Do this without shuffling the initial list \n",
    "#(Hint: you will need to import random and import copy). Explain in a paragraph the process that you followed to accomplish the task.\n",
    "import random\n",
    "import copy\n",
    "\n",
    "def is_prime(num):\n",
    "    if num < 2:\n",
    "        return False\n",
    "    for i in range(2, int(num**0.5) + 1):\n",
    "        if num % i == 0:\n",
    "            return False\n",
    "    return True\n",
    "\n",
    "def generate_primes():\n",
    "    count = 0\n",
    "    num = 2\n",
    "    while count < 100:\n",
    "        if is_prime(num):\n",
    "            yield num\n",
    "            count += 1\n",
    "        num += 1\n",
    "\n",
    "primes = list(generate_primes())\n",
    "primes_copy = copy.deepcopy(primes)\n",
    "random_primes = random.sample(primes_copy, len(primes_copy))\n",
    "print(random_primes)"
   ]
  },
  {
   "cell_type": "markdown",
   "id": "248b4ab0-44c5-4207-ab9a-54694f60ddad",
   "metadata": {},
   "source": [
    "### Explanation of the process:\n",
    "1. Generate the List of Prime Numbers: Generate the list of the first 100 prime numbers using the generate_primes() function.\n",
    "2. Deep Copy: Create a deep copy of the original list using copy.deepcopy(). This ensures that the original list remains unchanged.\n",
    "3. Randomly Order the List: Use random.sample() to create a randomly ordered list from the deep copy of the original list. This function returns a new list containing unique elements sampled from the input iterable in random order.\n",
    "4. The deep copy is crucial here to prevent any modifications to the original list while still allowing the creation of a new list with a random order."
   ]
  },
  {
   "cell_type": "code",
   "execution_count": null,
   "id": "e72d97ee-3bd1-4993-b18c-ecc784cffc25",
   "metadata": {},
   "outputs": [],
   "source": [
    "Sources: \n",
    "1. https://stackoverflow.com/questions/1708510/list-vs-tuple-when-to-use-each\n",
    "2. https://www.geeksforgeeks.org/python-difference-between-list-and-tuple/\n",
    "3. https://chat.openai.com/\n",
    "4. https://static.realpython.com/python-basics-sample-chapters.pdf"
   ]
  }
 ],
 "metadata": {
  "kernelspec": {
   "display_name": "anaconda-panel-2023.05-py310",
   "language": "python",
   "name": "conda-env-anaconda-panel-2023.05-py310-py"
  },
  "language_info": {
   "codemirror_mode": {
    "name": "ipython",
    "version": 3
   },
   "file_extension": ".py",
   "mimetype": "text/x-python",
   "name": "python",
   "nbconvert_exporter": "python",
   "pygments_lexer": "ipython3",
   "version": "3.11.5"
  }
 },
 "nbformat": 4,
 "nbformat_minor": 5
}
