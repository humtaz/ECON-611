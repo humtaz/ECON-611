{
 "cells": [
  {
   "cell_type": "markdown",
   "id": "d1da14f8-ad8e-4c33-9ef1-63a1766beae5",
   "metadata": {},
   "source": [
    "# Project Statement"
   ]
  },
  {
   "cell_type": "markdown",
   "id": "a5c3a4a1-90f0-4359-8a8c-bb629c69d910",
   "metadata": {},
   "source": [
    "# Change in Color of Jasmine Flowers\n",
    "\n",
    "### \"Jasmine flowers are prized for their exotic scent, and their essential oils have a wide range of uses in industries such as perfume, food, pharmaceutical, and medicine.  However, these flowers have a short shelf life. They are vulnerable to light, temperature, and humidity, which can cause photo-oxidative stress and lead to the breakdown of pigments and dehydration, resulting in petal browning and reduced visual appeal and overall value. To determine the proper shelf life for packing and storage of jasmine flowers, it is necessary to measure the temporal color variation and quantify the color degradation post-harvest. Manual methods of color measurement and variation over time are cumbersome and not feasible, therefore digital image capture, image processing, and analysis techniques were applied using python software. Jasmine flowers were captured digitally on a black background at fixed interval using a smartphone camera under ambient conditions. Image pre-processing operations such as, image cropping, artifacts removal, thresholding for background extraction, petal color measurement, shape parameters evaluation, color and shape kinetics, visualization, and model fitting were followed in ImageJ software. The results of this analysis provide insights into the color degradation of flower petals and flowering kinetics, which can influence the overall flower quality and customer acceptance. Further research may be needed to investigate the effect of storage environment conditions, especially temperature, and relative humidity, and determine the optimal conditions for extending shelf life\".\n"
   ]
  },
  {
   "cell_type": "code",
   "execution_count": 1,
   "id": "34795ab5-b80e-4dff-8718-351968388113",
   "metadata": {},
   "outputs": [
    {
     "name": "stdout",
     "output_type": "stream",
     "text": [
      "    Time       R       G       B      CIVE       VEG    ExG     ExGR  \\\n",
      "0      1  212.41  209.77  199.46  17.61383  34.83690  15.90  125.402   \n",
      "1      2  221.45  216.52  206.46  18.39923  34.30597  14.12  123.222   \n",
      "2      3  210.94  207.05  194.89  17.56835  33.75679  13.63  122.228   \n",
      "3      4  210.64  204.29  193.12  16.73493  33.23731  13.20  122.126   \n",
      "4      5  209.16  200.95  190.95  16.72427  32.72465  12.59  121.996   \n",
      "5      6  208.04  198.55  189.53  15.47690  32.37268  12.59  120.624   \n",
      "6      7  209.08  198.79  190.80  15.98483  32.36926  12.43  118.282   \n",
      "7      8  207.52  192.56  184.52  15.42473  31.16589  11.92  114.810   \n",
      "8      9  205.70  188.72  182.26  15.25851  30.59855  11.36  114.008   \n",
      "9     10  205.02  188.28  175.04  14.52267  30.18567  10.52  111.116   \n",
      "10    11  202.57  184.33  171.28  13.24544  30.06407   8.72  109.780   \n",
      "11    12  203.90  186.98  174.64  13.40893  29.57568   8.27  109.544   \n",
      "12    13  197.31  173.81  155.45  11.66889  29.28386   7.67  108.188   \n",
      "13    14  200.67  181.47  170.99  13.23900  28.30702   6.92  107.564   \n",
      "14    15  197.90  175.45  166.20  12.52280  28.23673   6.73  104.888   \n",
      "15    16  197.23  169.20  152.53  11.21437  27.47958   5.19  104.458   \n",
      "16    17  197.52  175.11  165.29  11.69861  26.58953   5.14  103.060   \n",
      "17    18  197.16  167.83  150.93  10.71699  26.28801   5.13  102.248   \n",
      "18    19  196.13  165.08  149.93   9.31574  25.89038   4.98   96.222   \n",
      "19    20  194.82  164.15  147.11   8.57959  25.69687   4.82   93.176   \n",
      "20    21  191.81  155.56  141.11   7.50581  25.57950   4.58   90.084   \n",
      "21    22  189.74  141.11  133.30   6.05140  23.98471   3.50   88.380   \n",
      "22    23  185.54  131.93  131.93   5.17988  22.52140   2.30   85.786   \n",
      "23    24  182.89  122.72  122.72   4.44499  22.13556   1.79   79.996   \n",
      "24    25  180.43  120.69  120.69   4.43359  22.10165   0.47   79.934   \n",
      "\n",
      "         COM        BI  ...      COM_p          BI_p        WI_p     ISO_B_p  \\\n",
      "0   32.69120  40477.02  ...  22.473521  33086.590894  100.000000  196.106667   \n",
      "1   31.76859  38836.23  ...  21.272848  30376.906530   92.781078  184.730000   \n",
      "2   31.47327  38099.83  ...  21.095526  29898.376660   92.590517  182.450000   \n",
      "3   31.27017  37876.74  ...  20.990454  29831.802321   90.096402  180.260000   \n",
      "4   31.17811  37864.64  ...  20.844043  29249.335464   89.698464  178.293333   \n",
      "5   30.86514  37730.72  ...  20.285992  28478.807773   86.823226  176.380000   \n",
      "6   30.04370  37669.82  ...  19.579117  28427.761085   86.128237  174.933333   \n",
      "7   29.23878  37313.08  ...  18.335504  28211.310749   85.158615  173.030000   \n",
      "8   28.92618  37216.43  ...  18.331025  27136.117277   80.837350  169.483333   \n",
      "9   27.46723  35136.36  ...  18.027043  27086.150178   79.559466  166.526667   \n",
      "10  27.31695  35111.83  ...  17.830103  26650.916008   78.438516  164.070000   \n",
      "11  26.75347  34816.51  ...  16.608746  26631.671306   77.138213  162.273333   \n",
      "12  26.66767  34532.99  ...  15.860850  26313.513178   76.717857  161.143333   \n",
      "13  26.12413  34306.71  ...  15.837424  25786.612176   75.428764  159.813333   \n",
      "14  25.59595  34067.68  ...  15.288678  25560.528942   74.638493  157.976667   \n",
      "15  25.23508  31439.94  ...  14.849814  25529.580977   72.744087  155.856667   \n",
      "16  24.75457  31407.32  ...  11.325901  25295.566449   72.357359  153.600000   \n",
      "17  24.39051  31369.67  ...  10.546666  25108.873116   71.600717  152.620000   \n",
      "18  22.48268  31229.77  ...   9.155054  24995.856190   70.709562  151.546667   \n",
      "19  21.35472  30591.70  ...   8.516436  24803.133447   70.446138  150.850000   \n",
      "20  20.17382  28563.47  ...   7.614785  24785.128111   70.334043  149.896667   \n",
      "21  19.34171  27701.85  ...   7.551962  24396.176699   69.594216  149.393333   \n",
      "22  18.54536  26918.38  ...   6.073786  23460.866168   68.523708  146.813333   \n",
      "23  16.47914  25675.44  ...   5.065569  22712.406858   63.838135  139.716667   \n",
      "24  16.41740  25421.11  ...   3.478568  21224.529430   61.046968  137.216667   \n",
      "\n",
      "    Hunter_WI_p      Hue.1  Chrome_rad.1  Chrome_deg.1      Area_p    Feret_p  \n",
      "0     74.078187  17.015210      1.527345      87.51045  660.749540  44.887835  \n",
      "1     59.046021  16.856250      1.526882      87.48387  655.346053  44.243579  \n",
      "2     57.850359  16.577200      1.509039      86.46154  647.080289  43.642024  \n",
      "3     54.321998  16.102730      1.503787      86.16064  645.185461  42.905300  \n",
      "4     52.408916  16.040580      1.482498      84.94087  642.641177  42.817247  \n",
      "5     47.833078  15.884990      1.429298      81.89275  639.771848  42.727536  \n",
      "6     46.397334  14.181730      1.419175      81.31272  635.674980  42.621543  \n",
      "7     44.567663  13.698680      1.332014      76.31881  630.707127  42.608118  \n",
      "8     37.556129  13.402520      1.259900      72.18693  625.640849  42.220988  \n",
      "9     35.491083  13.046970      1.173352      67.22812  623.310339  42.014669  \n",
      "10    34.481760  12.924010      1.168331      66.94041  618.765892  41.787884  \n",
      "11    33.986728  12.526490      1.132066      64.86259  616.413979  41.765818  \n",
      "12    33.515044  11.946220      1.132010      64.85942  614.998185  41.744798  \n",
      "13    33.321398  11.428500      1.104650      63.29176  611.939292  41.454680  \n",
      "14    32.827294  10.824930      1.093297      62.64131  608.501714  41.327189  \n",
      "15    32.048639  10.653260      1.087582      62.31384  605.308775  41.078761  \n",
      "16    31.897983  10.262340      0.942690      54.01217  603.031021  40.941693  \n",
      "17    31.274621  10.074360      0.935481      53.59909  599.500501  40.732080  \n",
      "18    30.760114   9.732030      0.932865      53.44923  594.626334  40.088753  \n",
      "19    29.807948   9.472365      0.929761      53.27140  590.696520  40.026240  \n",
      "20    28.930917   9.336145      0.894858      51.27156  584.866631  39.143229  \n",
      "21    28.776441   9.126801      0.855501      49.01660  579.128217  38.917050  \n",
      "22    28.476151   8.782625      0.796462      45.63388  568.305088  38.707210  \n",
      "23    26.147034   8.337704      0.601472      34.46179  565.390884  38.032786  \n",
      "24    25.047774   8.309013      0.523758      30.00911  557.456726  36.586583  \n",
      "\n",
      "[25 rows x 44 columns]\n"
     ]
    }
   ],
   "source": [
    "import pandas as pd\n",
    "\n",
    "# Read Excel file\n",
    "df = pd.read_excel('RGB.xlsx')\n",
    "\n",
    "print(df)\n"
   ]
  },
  {
   "cell_type": "code",
   "execution_count": null,
   "id": "6363c709-6ebc-41d9-991c-605a83565bee",
   "metadata": {},
   "outputs": [],
   "source": []
  }
 ],
 "metadata": {
  "kernelspec": {
   "display_name": "anaconda-panel-2023.05-py310",
   "language": "python",
   "name": "conda-env-anaconda-panel-2023.05-py310-py"
  },
  "language_info": {
   "codemirror_mode": {
    "name": "ipython",
    "version": 3
   },
   "file_extension": ".py",
   "mimetype": "text/x-python",
   "name": "python",
   "nbconvert_exporter": "python",
   "pygments_lexer": "ipython3",
   "version": "3.11.5"
  }
 },
 "nbformat": 4,
 "nbformat_minor": 5
}
